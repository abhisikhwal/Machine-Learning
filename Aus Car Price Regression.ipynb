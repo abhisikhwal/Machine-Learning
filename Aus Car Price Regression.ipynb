{
 "cells": [
  {
   "cell_type": "markdown",
   "id": "df735362",
   "metadata": {},
   "source": [
    "# Australia Vehicle Price Prediction\n",
    "\n",
    "By - Abhinav Sikhwal\n",
    "\n",
    "This is a Dataset obtained from Kaggle for the purpose of understanding and designing Machine Learning predictions for the M505B Course at Gisma University of Applied Sciences.\n",
    "\n",
    "Dataset URL: https://www.kaggle.com/datasets/nelgiriyewithana/australian-vehicle-prices "
   ]
  },
  {
   "cell_type": "markdown",
   "id": "22181a5e",
   "metadata": {},
   "source": [
    "# Problem Statement\n",
    "\n",
    "The Data contains valuable Information about Different attributes of Used / New Cars from Australia with their Selling Price. As the Dataset contains very spefic information about the age, make, model of Cars it would be ideal to Explore, Process and Engineer the Data so as to be able to try Machine Learning Algorithms.\n",
    "\n",
    "Since this seems like a Supervised Learning Regression Problem as we have the target variable of the price this Notebook will attempt to train different Models on the Dataset to find the Alrorithm which best captures the relationship between the Variables."
   ]
  },
  {
   "cell_type": "markdown",
   "id": "684f37b6",
   "metadata": {},
   "source": [
    "# Dataset Information\n",
    "\n",
    "This Dataset contains a range of Values and the following Columns :\n",
    "\n",
    "Brand, \n",
    "Year, \n",
    "Model, \n",
    "Car / Suv, \n",
    "Title, \n",
    "Used Or New, \n",
    "Type of transmission (manual or automatic), \n",
    "Engine, \n",
    "Drive Type,\n",
    "Fuel Type, \n",
    "Fuel Consumption, \n",
    "Kilometres, \n",
    "Colour(Exterior and Interior), \n",
    "Location, \n",
    "Number of Cylinders in Engine, \n",
    "Body Type, \n",
    "Number of Doors, \n",
    "Number of Seats,\n",
    "Price of the car in Australian dollars. "
   ]
  },
  {
   "cell_type": "markdown",
   "id": "dfc6379f",
   "metadata": {},
   "source": [
    "# Importing the Useful Libraries"
   ]
  },
  {
   "cell_type": "code",
   "execution_count": 86,
   "id": "1dd64417",
   "metadata": {},
   "outputs": [],
   "source": [
    "import pandas as pd\n",
    "import numpy as np\n",
    "import re\n",
    "from sklearn.model_selection import train_test_split\n",
    "import sklearn.preprocessing\n",
    "from sklearn.preprocessing import MinMaxScaler\n",
    "from sklearn.preprocessing import LabelEncoder\n",
    "from sklearn.linear_model import LinearRegression\n",
    "from sklearn.tree import DecisionTreeRegressor\n",
    "from sklearn.ensemble import RandomForestRegressor\n",
    "from sklearn.ensemble import GradientBoostingRegressor\n",
    "from sklearn.metrics import mean_squared_error, r2_score"
   ]
  },
  {
   "cell_type": "markdown",
   "id": "112ecc05",
   "metadata": {},
   "source": [
    "# Loading the Dataset"
   ]
  },
  {
   "cell_type": "code",
   "execution_count": 87,
   "id": "297fc864",
   "metadata": {},
   "outputs": [],
   "source": [
    "# Loading the dataset using pandas\n",
    "car_df = pd.read_csv(\"Australian Vehicle Prices.csv\")\n",
    "\n",
    "pd.set_option('display.max_columns', None)"
   ]
  },
  {
   "cell_type": "code",
   "execution_count": 88,
   "id": "615436b8",
   "metadata": {},
   "outputs": [
    {
     "data": {
      "text/html": [
       "<div>\n",
       "<style scoped>\n",
       "    .dataframe tbody tr th:only-of-type {\n",
       "        vertical-align: middle;\n",
       "    }\n",
       "\n",
       "    .dataframe tbody tr th {\n",
       "        vertical-align: top;\n",
       "    }\n",
       "\n",
       "    .dataframe thead th {\n",
       "        text-align: right;\n",
       "    }\n",
       "</style>\n",
       "<table border=\"1\" class=\"dataframe\">\n",
       "  <thead>\n",
       "    <tr style=\"text-align: right;\">\n",
       "      <th></th>\n",
       "      <th>Brand</th>\n",
       "      <th>Year</th>\n",
       "      <th>Model</th>\n",
       "      <th>Car/Suv</th>\n",
       "      <th>Title</th>\n",
       "      <th>UsedOrNew</th>\n",
       "      <th>Transmission</th>\n",
       "      <th>Engine</th>\n",
       "      <th>DriveType</th>\n",
       "      <th>FuelType</th>\n",
       "      <th>FuelConsumption</th>\n",
       "      <th>Kilometres</th>\n",
       "      <th>ColourExtInt</th>\n",
       "      <th>Location</th>\n",
       "      <th>CylindersinEngine</th>\n",
       "      <th>BodyType</th>\n",
       "      <th>Doors</th>\n",
       "      <th>Seats</th>\n",
       "      <th>Price</th>\n",
       "    </tr>\n",
       "  </thead>\n",
       "  <tbody>\n",
       "    <tr>\n",
       "      <th>0</th>\n",
       "      <td>Ssangyong</td>\n",
       "      <td>2022.0</td>\n",
       "      <td>Rexton</td>\n",
       "      <td>Sutherland Isuzu Ute</td>\n",
       "      <td>2022 Ssangyong Rexton Ultimate (awd)</td>\n",
       "      <td>DEMO</td>\n",
       "      <td>Automatic</td>\n",
       "      <td>4 cyl, 2.2 L</td>\n",
       "      <td>AWD</td>\n",
       "      <td>Diesel</td>\n",
       "      <td>8.7 L / 100 km</td>\n",
       "      <td>5595</td>\n",
       "      <td>White / Black</td>\n",
       "      <td>Caringbah, NSW</td>\n",
       "      <td>4 cyl</td>\n",
       "      <td>SUV</td>\n",
       "      <td>4 Doors</td>\n",
       "      <td>7 Seats</td>\n",
       "      <td>51990</td>\n",
       "    </tr>\n",
       "    <tr>\n",
       "      <th>1</th>\n",
       "      <td>MG</td>\n",
       "      <td>2022.0</td>\n",
       "      <td>MG3</td>\n",
       "      <td>Hatchback</td>\n",
       "      <td>2022 MG MG3 Auto Excite (with Navigation)</td>\n",
       "      <td>USED</td>\n",
       "      <td>Automatic</td>\n",
       "      <td>4 cyl, 1.5 L</td>\n",
       "      <td>Front</td>\n",
       "      <td>Premium</td>\n",
       "      <td>6.7 L / 100 km</td>\n",
       "      <td>16</td>\n",
       "      <td>Black / Black</td>\n",
       "      <td>Brookvale, NSW</td>\n",
       "      <td>4 cyl</td>\n",
       "      <td>Hatchback</td>\n",
       "      <td>5 Doors</td>\n",
       "      <td>5 Seats</td>\n",
       "      <td>19990</td>\n",
       "    </tr>\n",
       "    <tr>\n",
       "      <th>2</th>\n",
       "      <td>BMW</td>\n",
       "      <td>2022.0</td>\n",
       "      <td>430I</td>\n",
       "      <td>Coupe</td>\n",
       "      <td>2022 BMW 430I M Sport</td>\n",
       "      <td>USED</td>\n",
       "      <td>Automatic</td>\n",
       "      <td>4 cyl, 2 L</td>\n",
       "      <td>Rear</td>\n",
       "      <td>Premium</td>\n",
       "      <td>6.6 L / 100 km</td>\n",
       "      <td>8472</td>\n",
       "      <td>Grey / White</td>\n",
       "      <td>Sylvania, NSW</td>\n",
       "      <td>4 cyl</td>\n",
       "      <td>Coupe</td>\n",
       "      <td>2 Doors</td>\n",
       "      <td>4 Seats</td>\n",
       "      <td>108988</td>\n",
       "    </tr>\n",
       "    <tr>\n",
       "      <th>3</th>\n",
       "      <td>Mercedes-Benz</td>\n",
       "      <td>2011.0</td>\n",
       "      <td>E500</td>\n",
       "      <td>Coupe</td>\n",
       "      <td>2011 Mercedes-Benz E500 Elegance</td>\n",
       "      <td>USED</td>\n",
       "      <td>Automatic</td>\n",
       "      <td>8 cyl, 5.5 L</td>\n",
       "      <td>Rear</td>\n",
       "      <td>Premium</td>\n",
       "      <td>11 L / 100 km</td>\n",
       "      <td>136517</td>\n",
       "      <td>White / Brown</td>\n",
       "      <td>Mount Druitt, NSW</td>\n",
       "      <td>8 cyl</td>\n",
       "      <td>Coupe</td>\n",
       "      <td>2 Doors</td>\n",
       "      <td>4 Seats</td>\n",
       "      <td>32990</td>\n",
       "    </tr>\n",
       "    <tr>\n",
       "      <th>4</th>\n",
       "      <td>Renault</td>\n",
       "      <td>2022.0</td>\n",
       "      <td>Arkana</td>\n",
       "      <td>SUV</td>\n",
       "      <td>2022 Renault Arkana Intens</td>\n",
       "      <td>USED</td>\n",
       "      <td>Automatic</td>\n",
       "      <td>4 cyl, 1.3 L</td>\n",
       "      <td>Front</td>\n",
       "      <td>Unleaded</td>\n",
       "      <td>6 L / 100 km</td>\n",
       "      <td>1035</td>\n",
       "      <td>Grey / Black</td>\n",
       "      <td>Castle Hill, NSW</td>\n",
       "      <td>4 cyl</td>\n",
       "      <td>SUV</td>\n",
       "      <td>4 Doors</td>\n",
       "      <td>5 Seats</td>\n",
       "      <td>34990</td>\n",
       "    </tr>\n",
       "    <tr>\n",
       "      <th>5</th>\n",
       "      <td>Toyota</td>\n",
       "      <td>2004.0</td>\n",
       "      <td>Estima</td>\n",
       "      <td>ON FOUR WHEELS</td>\n",
       "      <td>2004 Toyota Estima T EDITION</td>\n",
       "      <td>USED</td>\n",
       "      <td>Automatic</td>\n",
       "      <td>-</td>\n",
       "      <td>Other</td>\n",
       "      <td>Unleaded</td>\n",
       "      <td>-</td>\n",
       "      <td>160230</td>\n",
       "      <td>Grey / -</td>\n",
       "      <td>Saint Marys, NSW</td>\n",
       "      <td>-</td>\n",
       "      <td>Commercial</td>\n",
       "      <td>NaN</td>\n",
       "      <td>NaN</td>\n",
       "      <td>9990</td>\n",
       "    </tr>\n",
       "    <tr>\n",
       "      <th>6</th>\n",
       "      <td>Land</td>\n",
       "      <td>2017.0</td>\n",
       "      <td>Rover</td>\n",
       "      <td>SUV</td>\n",
       "      <td>2017 Land Rover Range Rover Evoque TD4 180 HSE...</td>\n",
       "      <td>USED</td>\n",
       "      <td>Automatic</td>\n",
       "      <td>4 cyl, 2 L</td>\n",
       "      <td>AWD</td>\n",
       "      <td>Diesel</td>\n",
       "      <td>5.1 L / 100 km</td>\n",
       "      <td>67662</td>\n",
       "      <td>White / Black</td>\n",
       "      <td>Blacktown, NSW</td>\n",
       "      <td>4 cyl</td>\n",
       "      <td>SUV</td>\n",
       "      <td>2 Doors</td>\n",
       "      <td>4 Seats</td>\n",
       "      <td>62280</td>\n",
       "    </tr>\n",
       "    <tr>\n",
       "      <th>7</th>\n",
       "      <td>Nissan</td>\n",
       "      <td>2000.0</td>\n",
       "      <td>Pulsar</td>\n",
       "      <td>Hatchback</td>\n",
       "      <td>2000 Nissan Pulsar LX</td>\n",
       "      <td>USED</td>\n",
       "      <td>Automatic</td>\n",
       "      <td>4 cyl, 1.6 L</td>\n",
       "      <td>Front</td>\n",
       "      <td>Unleaded</td>\n",
       "      <td>8 L / 100 km</td>\n",
       "      <td>300539</td>\n",
       "      <td>Red / Grey</td>\n",
       "      <td>Wentworthville, NSW</td>\n",
       "      <td>4 cyl</td>\n",
       "      <td>Hatchback</td>\n",
       "      <td>5 Doors</td>\n",
       "      <td>5 Seats</td>\n",
       "      <td>2995</td>\n",
       "    </tr>\n",
       "    <tr>\n",
       "      <th>8</th>\n",
       "      <td>Toyota</td>\n",
       "      <td>2013.0</td>\n",
       "      <td>86</td>\n",
       "      <td>Coupe</td>\n",
       "      <td>2013 Toyota 86 GT</td>\n",
       "      <td>USED</td>\n",
       "      <td>Automatic</td>\n",
       "      <td>4 cyl, 2 L</td>\n",
       "      <td>Rear</td>\n",
       "      <td>Premium</td>\n",
       "      <td>7.1 L / 100 km</td>\n",
       "      <td>82012</td>\n",
       "      <td>Black / -</td>\n",
       "      <td>Mcgraths Hill, NSW</td>\n",
       "      <td>4 cyl</td>\n",
       "      <td>Coupe</td>\n",
       "      <td>2 Doors</td>\n",
       "      <td>4 Seats</td>\n",
       "      <td>24888</td>\n",
       "    </tr>\n",
       "    <tr>\n",
       "      <th>9</th>\n",
       "      <td>Honda</td>\n",
       "      <td>2014.0</td>\n",
       "      <td>Jazz</td>\n",
       "      <td>Hatchback</td>\n",
       "      <td>2014 Honda Jazz Hybrid</td>\n",
       "      <td>USED</td>\n",
       "      <td>Automatic</td>\n",
       "      <td>4 cyl, 1.3 L</td>\n",
       "      <td>Front</td>\n",
       "      <td>Hybrid</td>\n",
       "      <td>4.5 L / 100 km</td>\n",
       "      <td>38229</td>\n",
       "      <td>Blue / -</td>\n",
       "      <td>Lidcombe, NSW</td>\n",
       "      <td>4 cyl</td>\n",
       "      <td>Hatchback</td>\n",
       "      <td>5 Doors</td>\n",
       "      <td>5 Seats</td>\n",
       "      <td>17900</td>\n",
       "    </tr>\n",
       "  </tbody>\n",
       "</table>\n",
       "</div>"
      ],
      "text/plain": [
       "           Brand    Year   Model               Car/Suv  \\\n",
       "0      Ssangyong  2022.0  Rexton  Sutherland Isuzu Ute   \n",
       "1             MG  2022.0     MG3             Hatchback   \n",
       "2            BMW  2022.0    430I                 Coupe   \n",
       "3  Mercedes-Benz  2011.0    E500                 Coupe   \n",
       "4        Renault  2022.0  Arkana                   SUV   \n",
       "5         Toyota  2004.0  Estima        ON FOUR WHEELS   \n",
       "6           Land  2017.0   Rover                   SUV   \n",
       "7         Nissan  2000.0  Pulsar             Hatchback   \n",
       "8         Toyota  2013.0      86                 Coupe   \n",
       "9          Honda  2014.0    Jazz             Hatchback   \n",
       "\n",
       "                                               Title UsedOrNew Transmission  \\\n",
       "0               2022 Ssangyong Rexton Ultimate (awd)      DEMO    Automatic   \n",
       "1          2022 MG MG3 Auto Excite (with Navigation)      USED    Automatic   \n",
       "2                              2022 BMW 430I M Sport      USED    Automatic   \n",
       "3                   2011 Mercedes-Benz E500 Elegance      USED    Automatic   \n",
       "4                         2022 Renault Arkana Intens      USED    Automatic   \n",
       "5                       2004 Toyota Estima T EDITION      USED    Automatic   \n",
       "6  2017 Land Rover Range Rover Evoque TD4 180 HSE...      USED    Automatic   \n",
       "7                              2000 Nissan Pulsar LX      USED    Automatic   \n",
       "8                                  2013 Toyota 86 GT      USED    Automatic   \n",
       "9                             2014 Honda Jazz Hybrid      USED    Automatic   \n",
       "\n",
       "         Engine DriveType  FuelType FuelConsumption Kilometres   ColourExtInt  \\\n",
       "0  4 cyl, 2.2 L       AWD    Diesel  8.7 L / 100 km       5595  White / Black   \n",
       "1  4 cyl, 1.5 L     Front   Premium  6.7 L / 100 km         16  Black / Black   \n",
       "2    4 cyl, 2 L      Rear   Premium  6.6 L / 100 km       8472   Grey / White   \n",
       "3  8 cyl, 5.5 L      Rear   Premium   11 L / 100 km     136517  White / Brown   \n",
       "4  4 cyl, 1.3 L     Front  Unleaded    6 L / 100 km       1035   Grey / Black   \n",
       "5             -     Other  Unleaded               -     160230       Grey / -   \n",
       "6    4 cyl, 2 L       AWD    Diesel  5.1 L / 100 km      67662  White / Black   \n",
       "7  4 cyl, 1.6 L     Front  Unleaded    8 L / 100 km     300539     Red / Grey   \n",
       "8    4 cyl, 2 L      Rear   Premium  7.1 L / 100 km      82012      Black / -   \n",
       "9  4 cyl, 1.3 L     Front    Hybrid  4.5 L / 100 km      38229       Blue / -   \n",
       "\n",
       "              Location CylindersinEngine    BodyType     Doors     Seats  \\\n",
       "0       Caringbah, NSW             4 cyl         SUV   4 Doors   7 Seats   \n",
       "1       Brookvale, NSW             4 cyl   Hatchback   5 Doors   5 Seats   \n",
       "2        Sylvania, NSW             4 cyl       Coupe   2 Doors   4 Seats   \n",
       "3    Mount Druitt, NSW             8 cyl       Coupe   2 Doors   4 Seats   \n",
       "4     Castle Hill, NSW             4 cyl         SUV   4 Doors   5 Seats   \n",
       "5     Saint Marys, NSW                 -  Commercial       NaN       NaN   \n",
       "6       Blacktown, NSW             4 cyl         SUV   2 Doors   4 Seats   \n",
       "7  Wentworthville, NSW             4 cyl   Hatchback   5 Doors   5 Seats   \n",
       "8   Mcgraths Hill, NSW             4 cyl       Coupe   2 Doors   4 Seats   \n",
       "9        Lidcombe, NSW             4 cyl   Hatchback   5 Doors   5 Seats   \n",
       "\n",
       "    Price  \n",
       "0   51990  \n",
       "1   19990  \n",
       "2  108988  \n",
       "3   32990  \n",
       "4   34990  \n",
       "5    9990  \n",
       "6   62280  \n",
       "7    2995  \n",
       "8   24888  \n",
       "9   17900  "
      ]
     },
     "execution_count": 88,
     "metadata": {},
     "output_type": "execute_result"
    }
   ],
   "source": [
    "# To see the first few columns\n",
    "car_df.head(10)"
   ]
  },
  {
   "cell_type": "code",
   "execution_count": 89,
   "id": "aa20b068",
   "metadata": {},
   "outputs": [
    {
     "name": "stdout",
     "output_type": "stream",
     "text": [
      " The Size of the Dataset is : (16734, 19)\n"
     ]
    }
   ],
   "source": [
    "# To check the size of the dataset\n",
    "print(\" The Size of the Dataset is :\", car_df.shape)"
   ]
  },
  {
   "cell_type": "code",
   "execution_count": 90,
   "id": "7048a14e",
   "metadata": {},
   "outputs": [
    {
     "data": {
      "text/plain": [
       "Brand                 object\n",
       "Year                 float64\n",
       "Model                 object\n",
       "Car/Suv               object\n",
       "Title                 object\n",
       "UsedOrNew             object\n",
       "Transmission          object\n",
       "Engine                object\n",
       "DriveType             object\n",
       "FuelType              object\n",
       "FuelConsumption       object\n",
       "Kilometres            object\n",
       "ColourExtInt          object\n",
       "Location              object\n",
       "CylindersinEngine     object\n",
       "BodyType              object\n",
       "Doors                 object\n",
       "Seats                 object\n",
       "Price                 object\n",
       "dtype: object"
      ]
     },
     "execution_count": 90,
     "metadata": {},
     "output_type": "execute_result"
    }
   ],
   "source": [
    "#Checking the Datatypes of all the Columns\n",
    "car_df.dtypes"
   ]
  },
  {
   "cell_type": "code",
   "execution_count": 91,
   "id": "c5ae41a8",
   "metadata": {},
   "outputs": [
    {
     "name": "stdout",
     "output_type": "stream",
     "text": [
      "<class 'pandas.core.frame.DataFrame'>\n",
      "RangeIndex: 16734 entries, 0 to 16733\n",
      "Data columns (total 19 columns):\n",
      " #   Column             Non-Null Count  Dtype  \n",
      "---  ------             --------------  -----  \n",
      " 0   Brand              16733 non-null  object \n",
      " 1   Year               16733 non-null  float64\n",
      " 2   Model              16733 non-null  object \n",
      " 3   Car/Suv            16706 non-null  object \n",
      " 4   Title              16733 non-null  object \n",
      " 5   UsedOrNew          16733 non-null  object \n",
      " 6   Transmission       16733 non-null  object \n",
      " 7   Engine             16733 non-null  object \n",
      " 8   DriveType          16733 non-null  object \n",
      " 9   FuelType           16733 non-null  object \n",
      " 10  FuelConsumption    16733 non-null  object \n",
      " 11  Kilometres         16733 non-null  object \n",
      " 12  ColourExtInt       16733 non-null  object \n",
      " 13  Location           16284 non-null  object \n",
      " 14  CylindersinEngine  16733 non-null  object \n",
      " 15  BodyType           16452 non-null  object \n",
      " 16  Doors              15130 non-null  object \n",
      " 17  Seats              15029 non-null  object \n",
      " 18  Price              16731 non-null  object \n",
      "dtypes: float64(1), object(18)\n",
      "memory usage: 2.4+ MB\n"
     ]
    }
   ],
   "source": [
    "# Checking more information about the dataset\n",
    "car_df.info()"
   ]
  },
  {
   "cell_type": "code",
   "execution_count": 92,
   "id": "e4c25791",
   "metadata": {},
   "outputs": [
    {
     "data": {
      "text/plain": [
       "Brand                   1\n",
       "Year                    1\n",
       "Model                   1\n",
       "Car/Suv                28\n",
       "Title                   1\n",
       "UsedOrNew               1\n",
       "Transmission            1\n",
       "Engine                  1\n",
       "DriveType               1\n",
       "FuelType                1\n",
       "FuelConsumption         1\n",
       "Kilometres              1\n",
       "ColourExtInt            1\n",
       "Location              450\n",
       "CylindersinEngine       1\n",
       "BodyType              282\n",
       "Doors                1604\n",
       "Seats                1705\n",
       "Price                   3\n",
       "dtype: int64"
      ]
     },
     "execution_count": 92,
     "metadata": {},
     "output_type": "execute_result"
    }
   ],
   "source": [
    "#Checking for Null values in the dataset\n",
    "car_df.isna().sum()"
   ]
  },
  {
   "cell_type": "markdown",
   "id": "6e266a9c",
   "metadata": {},
   "source": [
    "# Data Exploration\n",
    "\n",
    "The Dataset has more than 16000 rows and 19 Columns. It contains some Null Values that need to be processed. Aside from the Year Column, all other columns have a Data type of Object which is not ideal for Machine Learning."
   ]
  },
  {
   "cell_type": "code",
   "execution_count": 93,
   "id": "30e0d8a5",
   "metadata": {},
   "outputs": [
    {
     "name": "stdout",
     "output_type": "stream",
     "text": [
      "['DEMO' 'USED' 'NEW' nan]\n"
     ]
    }
   ],
   "source": [
    "#Checking unique values in the columns\n",
    "print(pd.unique(car_df['UsedOrNew']))"
   ]
  },
  {
   "cell_type": "code",
   "execution_count": 94,
   "id": "65f386b1",
   "metadata": {},
   "outputs": [
    {
     "name": "stdout",
     "output_type": "stream",
     "text": [
      "['Automatic' 'Manual' '-' nan]\n"
     ]
    }
   ],
   "source": [
    "print(pd.unique(car_df['Transmission']))"
   ]
  },
  {
   "cell_type": "code",
   "execution_count": 95,
   "id": "90bb43de",
   "metadata": {},
   "outputs": [
    {
     "name": "stdout",
     "output_type": "stream",
     "text": [
      "['AWD' 'Front' 'Rear' 'Other' '4WD' nan]\n"
     ]
    }
   ],
   "source": [
    "print(pd.unique(car_df['DriveType']))"
   ]
  },
  {
   "cell_type": "code",
   "execution_count": 96,
   "id": "b4a6000f",
   "metadata": {},
   "outputs": [
    {
     "name": "stdout",
     "output_type": "stream",
     "text": [
      "['SUV' 'Hatchback' 'Coupe' 'Commercial' nan 'Wagon' 'Ute / Tray' 'Sedan'\n",
      " 'People Mover' 'Convertible' 'Other']\n"
     ]
    }
   ],
   "source": [
    "print(pd.unique(car_df['BodyType']))"
   ]
  },
  {
   "cell_type": "code",
   "execution_count": 97,
   "id": "d90ac95b",
   "metadata": {},
   "outputs": [
    {
     "name": "stdout",
     "output_type": "stream",
     "text": [
      "['Diesel' 'Premium' 'Unleaded' 'Hybrid' '-' 'Other' 'Electric' 'LPG'\n",
      " 'Leaded' nan]\n"
     ]
    }
   ],
   "source": [
    "print(pd.unique(car_df['FuelType']))"
   ]
  },
  {
   "cell_type": "code",
   "execution_count": 98,
   "id": "33b1a310",
   "metadata": {},
   "outputs": [
    {
     "name": "stdout",
     "output_type": "stream",
     "text": [
      "['Ssangyong' 'MG' 'BMW' 'Mercedes-Benz' 'Renault' 'Toyota' 'Land' 'Nissan'\n",
      " 'Honda' 'Volkswagen' 'Mitsubishi' 'Ford' 'Subaru' 'Hyundai' 'Jeep'\n",
      " 'Volvo' 'Mazda' 'Abarth' 'Holden' 'Audi' 'Kia' 'Mini' 'Peugeot' 'Suzuki'\n",
      " 'Dodge' 'Porsche' 'Daihatsu' 'Isuzu' 'Lexus' 'Jaguar' 'Rolls-Royce'\n",
      " 'Skoda' 'Fiat' 'Haval' 'Citroen' 'LDV' 'HSV' 'Foton' 'Mahindra'\n",
      " 'Maserati' 'Alfa' 'GWM' 'Ram' 'Tesla' 'Genesis' 'Chrysler' 'Great' 'Opel'\n",
      " 'Saab' 'Bentley' 'Rover' nan 'Ferrari' 'Cupra' 'Chevrolet' 'Lamborghini'\n",
      " 'FPV' 'McLaren' 'Chery' 'Iveco' 'Hummer' 'Infiniti' 'BYD' 'Tata' 'Aston'\n",
      " 'Daewoo' 'Proton' 'Geely' 'Smart' 'Ineos' 'Caterham' 'Hino'\n",
      " 'International' 'Lotus' 'Polestar' 'Datsun' 'Packard']\n"
     ]
    }
   ],
   "source": [
    "print(pd.unique(car_df['Brand']))"
   ]
  },
  {
   "cell_type": "code",
   "execution_count": 99,
   "id": "b21eeac4",
   "metadata": {},
   "outputs": [
    {
     "name": "stdout",
     "output_type": "stream",
     "text": [
      "[' 4 Doors' ' 5 Doors' ' 2 Doors' nan ' 3 Doors' ' 7 Seats' ' 5 Seats'\n",
      " ' 4 Seats' ' 8 Seats' ' 2 Seats' ' 9 Seats' ' 6 Seats' ' 3 Seats'\n",
      " ' 12 Seats']\n"
     ]
    }
   ],
   "source": [
    "print(pd.unique(car_df['Doors']))"
   ]
  },
  {
   "cell_type": "code",
   "execution_count": 100,
   "id": "1e129c33",
   "metadata": {},
   "outputs": [
    {
     "name": "stdout",
     "output_type": "stream",
     "text": [
      "[' 7 Seats' ' 5 Seats' ' 4 Seats' nan ' 2 Seats' ' 3 Seats' ' 14 Seats'\n",
      " ' 8 Seats' ' 6 Seats' ' 9 Seats' ' 11 Seats' ' 12 Seats' ' 22 Seats'\n",
      " ' 15 Seats']\n"
     ]
    }
   ],
   "source": [
    "print(pd.unique(car_df['Seats']))"
   ]
  },
  {
   "cell_type": "code",
   "execution_count": 101,
   "id": "887651dc",
   "metadata": {},
   "outputs": [
    {
     "name": "stdout",
     "output_type": "stream",
     "text": [
      "['4 cyl' '8 cyl' '-' '3 cyl' '6 cyl' '5 cyl' '12 cyl' '0 L' '2 cyl' nan\n",
      " '10 cyl' '2 L']\n"
     ]
    }
   ],
   "source": [
    "print(pd.unique(car_df['CylindersinEngine']))"
   ]
  },
  {
   "cell_type": "markdown",
   "id": "575b9794",
   "metadata": {},
   "source": [
    "# Data Insights\n",
    "\n",
    "Now that we are done with Exploring the Dataset there are a few insights:\n",
    "\n",
    "The Brand Names have a lot of Categorical Values of Maker names,\n",
    "\n",
    "The Engine Column is format of \"4.0 / 2 L\",\n",
    "\n",
    "The Color Column is in Format of \"White / Black\",\n",
    "\n",
    "The Cylinders is in Format of \" 6 cyl \",\n",
    "\n",
    "The Doors and Seats columns are in Format of \" 6 Doors\",\n",
    "\n",
    "These Columns need to be separated and converted to their corresponding Numerical attributes."
   ]
  },
  {
   "cell_type": "markdown",
   "id": "d5c4d6c6",
   "metadata": {},
   "source": [
    "# Data Preprocessing\n",
    "\n",
    "Most of the rows are in object form and need to be converted to Integer / Float for better processing by the machine learning algorithms.\n",
    "\n",
    "For this purpose, using functions in python we will extract the categorical values and convert them to numerical values using formulas. "
   ]
  },
  {
   "cell_type": "code",
   "execution_count": 102,
   "id": "94878cbe",
   "metadata": {},
   "outputs": [],
   "source": [
    "# To Remove the \"-\", \"POA\" as well as other Null Values in the DataSet\n",
    "car_df.replace('-', pd.NA, inplace=True)\n",
    "car_df.replace('POA', pd.NA, inplace=True)\n",
    "car_df = car_df.dropna()"
   ]
  },
  {
   "cell_type": "code",
   "execution_count": 103,
   "id": "cc89e8b0",
   "metadata": {},
   "outputs": [],
   "source": [
    "# Splitting the string and extracting the numeric part and converting to Float to Divide by 100\n",
    "\n",
    "def newfuel(fuel):\n",
    "    cons_str = fuel.split()[0]\n",
    "    cons_float = float(cons_str)\n",
    "    return cons_float / 100\n",
    "\n",
    "# Applying the function to the fuel consumption column of the Dataset\n",
    "car_df['Fuel efficiency (L/km)'] = car_df['FuelConsumption'].apply(newfuel)"
   ]
  },
  {
   "cell_type": "code",
   "execution_count": 104,
   "id": "a7781f2c",
   "metadata": {},
   "outputs": [],
   "source": [
    "# Converting Kilometres and Price to Float Values\n",
    "car_df['Kilometres'] = car_df['Kilometres'].astype(float)\n",
    "car_df['Price'] = car_df['Price'].astype(float)\n",
    "\n",
    "# Converting Doors and Seats to Float Values\n",
    "car_df['Doors'] = car_df['Doors'].str.extract(r'(\\d+)').astype(float)\n",
    "car_df['Seats'] = car_df['Seats'].str.extract(r'(\\d+)').astype(float)"
   ]
  },
  {
   "cell_type": "code",
   "execution_count": 105,
   "id": "a368ff9e",
   "metadata": {},
   "outputs": [],
   "source": [
    "#Converting the Cylinders Column to extract the Engine Capacity into a New Column\n",
    "\n",
    "car_df['CylindersinEngine'] = car_df['CylindersinEngine'].str.extract('(\\d+)').astype(float)\n",
    "\n",
    "def cylinder(text):\n",
    "    match = re.search(r'(\\d+\\.\\d+|\\d+) L', text)\n",
    "    if match:\n",
    "        return float(match.group(1))\n",
    "    else:\n",
    "        return None\n",
    "\n",
    "car_df['Engine'] = car_df['Engine'].apply(cylinder)"
   ]
  },
  {
   "cell_type": "code",
   "execution_count": 106,
   "id": "1c6eb6b8",
   "metadata": {},
   "outputs": [],
   "source": [
    "# Separating the Interior and Exterior Color Values\n",
    "car_df[['Interior', 'Exterior']] = car_df['ColourExtInt'].str.extract(r'^(.*) / (.*)$')"
   ]
  },
  {
   "cell_type": "code",
   "execution_count": 107,
   "id": "e884f144",
   "metadata": {},
   "outputs": [],
   "source": [
    "# To consider the DEMO car as a NEW car\n",
    "car_df['UsedOrNew'] = car_df['UsedOrNew'].replace('DEMO', 'NEW')"
   ]
  },
  {
   "cell_type": "markdown",
   "id": "2b9bc15b",
   "metadata": {},
   "source": [
    "# Feature Engineering\n",
    "\n",
    "Since most of the features / columns of this dataset are in Categorical form, they need to processed and converted to numerical data for better understanding by the machine learning algorithms. \n",
    "\n",
    "The Values will then be encoded using Label Encoding which will convert the category to a numeircal number.\n",
    "\n",
    "or One Hot Encoding which will create a binary representation of the diferent categories. \n",
    "\n",
    "Additionaly target encoding will also be used for some columns. "
   ]
  },
  {
   "cell_type": "markdown",
   "id": "3c24e03c",
   "metadata": {},
   "source": [
    "# Scaling the Age and Kilometres Value\n",
    "\n",
    "The Year Column has been used to create the Age Column.\n",
    "\n",
    "The Age and Kilometres Column will now be Scaled between the values of 0 and 1 using Min max scaler. However since the more the age and kilometres , the worse the car they will be scaled in reverse order."
   ]
  },
  {
   "cell_type": "code",
   "execution_count": 108,
   "id": "85a6124b",
   "metadata": {},
   "outputs": [],
   "source": [
    "car_df['age'] = 2024 - car_df['Year']\n",
    "\n",
    "scaler = MinMaxScaler()\n",
    "\n",
    "car_df['age'] = 1 - scaler.fit_transform(car_df[['age']])\n",
    "car_df['Kilometres'] = 1 - scaler.fit_transform(car_df[['Kilometres']])"
   ]
  },
  {
   "cell_type": "markdown",
   "id": "a7b0d023",
   "metadata": {},
   "source": [
    "# Columns for Target Encoding\n",
    "\n",
    "Model,\n",
    "Car / Suv,\n",
    "Drive type,\n",
    "Body Type,"
   ]
  },
  {
   "cell_type": "code",
   "execution_count": 109,
   "id": "184170ad",
   "metadata": {},
   "outputs": [],
   "source": [
    "target_encode = ['Model', 'Car/Suv', 'DriveType','BodyType','Interior','Exterior']\n",
    "\n",
    "for col in target_encode:\n",
    "    if col != 'Price':\n",
    "        means = car_df.groupby(col)['Price'].mean()\n",
    "        car_df[col + '_encoded'] = car_df[col].map(means)"
   ]
  },
  {
   "cell_type": "markdown",
   "id": "666cf041",
   "metadata": {},
   "source": [
    "# Encoding - One Hot Encoding and Label Encoding\n",
    "\n",
    "Some of the Columns that have very few Unique Values (UsedorNew, Transmission, Fueltype) will be encoded using One hot encoding. \n",
    "\n",
    "The rest of the Categorical Columns will be encoded using Label Encoding. This is to Avoid Dimensionality of the Data."
   ]
  },
  {
   "cell_type": "code",
   "execution_count": 110,
   "id": "83034370",
   "metadata": {},
   "outputs": [],
   "source": [
    "# One Hot Encoding\n",
    "cardf = pd.get_dummies(car_df, columns=['UsedOrNew', 'Transmission', 'FuelType'])"
   ]
  },
  {
   "cell_type": "code",
   "execution_count": 111,
   "id": "bc9fa404",
   "metadata": {},
   "outputs": [],
   "source": [
    "# Label Encoding\n",
    "\n",
    "label_encoder = LabelEncoder()\n",
    "cardf['brand'] = label_encoder.fit_transform(car_df['Brand'])\n",
    "cardf['Enginec'] = label_encoder.fit_transform(car_df['Engine'])\n",
    "cardf['Cylinder'] = label_encoder.fit_transform(car_df['CylindersinEngine'])"
   ]
  },
  {
   "cell_type": "code",
   "execution_count": 112,
   "id": "12f65398",
   "metadata": {},
   "outputs": [
    {
     "data": {
      "text/html": [
       "<div>\n",
       "<style scoped>\n",
       "    .dataframe tbody tr th:only-of-type {\n",
       "        vertical-align: middle;\n",
       "    }\n",
       "\n",
       "    .dataframe tbody tr th {\n",
       "        vertical-align: top;\n",
       "    }\n",
       "\n",
       "    .dataframe thead th {\n",
       "        text-align: right;\n",
       "    }\n",
       "</style>\n",
       "<table border=\"1\" class=\"dataframe\">\n",
       "  <thead>\n",
       "    <tr style=\"text-align: right;\">\n",
       "      <th></th>\n",
       "      <th>Kilometres</th>\n",
       "      <th>Doors</th>\n",
       "      <th>Seats</th>\n",
       "      <th>Price</th>\n",
       "      <th>Fuel efficiency (L/km)</th>\n",
       "      <th>age</th>\n",
       "      <th>Model_encoded</th>\n",
       "      <th>Car/Suv_encoded</th>\n",
       "      <th>DriveType_encoded</th>\n",
       "      <th>BodyType_encoded</th>\n",
       "      <th>Interior_encoded</th>\n",
       "      <th>Exterior_encoded</th>\n",
       "      <th>UsedOrNew_NEW</th>\n",
       "      <th>UsedOrNew_USED</th>\n",
       "      <th>Transmission_Automatic</th>\n",
       "      <th>Transmission_Manual</th>\n",
       "      <th>FuelType_Diesel</th>\n",
       "      <th>FuelType_Electric</th>\n",
       "      <th>FuelType_Hybrid</th>\n",
       "      <th>FuelType_LPG</th>\n",
       "      <th>FuelType_Leaded</th>\n",
       "      <th>FuelType_Premium</th>\n",
       "      <th>FuelType_Unleaded</th>\n",
       "      <th>brand</th>\n",
       "      <th>Enginec</th>\n",
       "      <th>Cylinder</th>\n",
       "    </tr>\n",
       "  </thead>\n",
       "  <tbody>\n",
       "    <tr>\n",
       "      <th>0</th>\n",
       "      <td>0.989368</td>\n",
       "      <td>4.0</td>\n",
       "      <td>7.0</td>\n",
       "      <td>51990.0</td>\n",
       "      <td>0.087</td>\n",
       "      <td>0.977778</td>\n",
       "      <td>48712.916667</td>\n",
       "      <td>51990.000000</td>\n",
       "      <td>46817.365238</td>\n",
       "      <td>37885.964618</td>\n",
       "      <td>35474.428899</td>\n",
       "      <td>37295.919777</td>\n",
       "      <td>True</td>\n",
       "      <td>False</td>\n",
       "      <td>True</td>\n",
       "      <td>False</td>\n",
       "      <td>True</td>\n",
       "      <td>False</td>\n",
       "      <td>False</td>\n",
       "      <td>False</td>\n",
       "      <td>False</td>\n",
       "      <td>False</td>\n",
       "      <td>False</td>\n",
       "      <td>56</td>\n",
       "      <td>14</td>\n",
       "      <td>3</td>\n",
       "    </tr>\n",
       "    <tr>\n",
       "      <th>1</th>\n",
       "      <td>0.999971</td>\n",
       "      <td>5.0</td>\n",
       "      <td>5.0</td>\n",
       "      <td>19990.0</td>\n",
       "      <td>0.067</td>\n",
       "      <td>0.977778</td>\n",
       "      <td>18651.541667</td>\n",
       "      <td>22304.407565</td>\n",
       "      <td>25749.832049</td>\n",
       "      <td>22646.521937</td>\n",
       "      <td>39698.609202</td>\n",
       "      <td>37295.919777</td>\n",
       "      <td>False</td>\n",
       "      <td>True</td>\n",
       "      <td>True</td>\n",
       "      <td>False</td>\n",
       "      <td>False</td>\n",
       "      <td>False</td>\n",
       "      <td>False</td>\n",
       "      <td>False</td>\n",
       "      <td>False</td>\n",
       "      <td>True</td>\n",
       "      <td>False</td>\n",
       "      <td>37</td>\n",
       "      <td>7</td>\n",
       "      <td>3</td>\n",
       "    </tr>\n",
       "    <tr>\n",
       "      <th>2</th>\n",
       "      <td>0.983900</td>\n",
       "      <td>2.0</td>\n",
       "      <td>4.0</td>\n",
       "      <td>108988.0</td>\n",
       "      <td>0.066</td>\n",
       "      <td>0.977778</td>\n",
       "      <td>55504.600000</td>\n",
       "      <td>67613.940945</td>\n",
       "      <td>36512.875189</td>\n",
       "      <td>67642.466667</td>\n",
       "      <td>38393.810176</td>\n",
       "      <td>59319.411765</td>\n",
       "      <td>False</td>\n",
       "      <td>True</td>\n",
       "      <td>True</td>\n",
       "      <td>False</td>\n",
       "      <td>False</td>\n",
       "      <td>False</td>\n",
       "      <td>False</td>\n",
       "      <td>False</td>\n",
       "      <td>False</td>\n",
       "      <td>True</td>\n",
       "      <td>False</td>\n",
       "      <td>4</td>\n",
       "      <td>12</td>\n",
       "      <td>3</td>\n",
       "    </tr>\n",
       "    <tr>\n",
       "      <th>3</th>\n",
       "      <td>0.740543</td>\n",
       "      <td>2.0</td>\n",
       "      <td>4.0</td>\n",
       "      <td>32990.0</td>\n",
       "      <td>0.110</td>\n",
       "      <td>0.733333</td>\n",
       "      <td>25990.000000</td>\n",
       "      <td>67613.940945</td>\n",
       "      <td>36512.875189</td>\n",
       "      <td>67642.466667</td>\n",
       "      <td>35474.428899</td>\n",
       "      <td>71020.291667</td>\n",
       "      <td>False</td>\n",
       "      <td>True</td>\n",
       "      <td>True</td>\n",
       "      <td>False</td>\n",
       "      <td>False</td>\n",
       "      <td>False</td>\n",
       "      <td>False</td>\n",
       "      <td>False</td>\n",
       "      <td>False</td>\n",
       "      <td>True</td>\n",
       "      <td>False</td>\n",
       "      <td>42</td>\n",
       "      <td>46</td>\n",
       "      <td>6</td>\n",
       "    </tr>\n",
       "    <tr>\n",
       "      <th>4</th>\n",
       "      <td>0.998035</td>\n",
       "      <td>4.0</td>\n",
       "      <td>5.0</td>\n",
       "      <td>34990.0</td>\n",
       "      <td>0.060</td>\n",
       "      <td>0.977778</td>\n",
       "      <td>42046.866667</td>\n",
       "      <td>36286.875869</td>\n",
       "      <td>25749.832049</td>\n",
       "      <td>37885.964618</td>\n",
       "      <td>38393.810176</td>\n",
       "      <td>37295.919777</td>\n",
       "      <td>False</td>\n",
       "      <td>True</td>\n",
       "      <td>True</td>\n",
       "      <td>False</td>\n",
       "      <td>False</td>\n",
       "      <td>False</td>\n",
       "      <td>False</td>\n",
       "      <td>False</td>\n",
       "      <td>False</td>\n",
       "      <td>False</td>\n",
       "      <td>True</td>\n",
       "      <td>51</td>\n",
       "      <td>5</td>\n",
       "      <td>3</td>\n",
       "    </tr>\n",
       "  </tbody>\n",
       "</table>\n",
       "</div>"
      ],
      "text/plain": [
       "   Kilometres  Doors  Seats     Price  Fuel efficiency (L/km)       age  \\\n",
       "0    0.989368    4.0    7.0   51990.0                   0.087  0.977778   \n",
       "1    0.999971    5.0    5.0   19990.0                   0.067  0.977778   \n",
       "2    0.983900    2.0    4.0  108988.0                   0.066  0.977778   \n",
       "3    0.740543    2.0    4.0   32990.0                   0.110  0.733333   \n",
       "4    0.998035    4.0    5.0   34990.0                   0.060  0.977778   \n",
       "\n",
       "   Model_encoded  Car/Suv_encoded  DriveType_encoded  BodyType_encoded  \\\n",
       "0   48712.916667     51990.000000       46817.365238      37885.964618   \n",
       "1   18651.541667     22304.407565       25749.832049      22646.521937   \n",
       "2   55504.600000     67613.940945       36512.875189      67642.466667   \n",
       "3   25990.000000     67613.940945       36512.875189      67642.466667   \n",
       "4   42046.866667     36286.875869       25749.832049      37885.964618   \n",
       "\n",
       "   Interior_encoded  Exterior_encoded  UsedOrNew_NEW  UsedOrNew_USED  \\\n",
       "0      35474.428899      37295.919777           True           False   \n",
       "1      39698.609202      37295.919777          False            True   \n",
       "2      38393.810176      59319.411765          False            True   \n",
       "3      35474.428899      71020.291667          False            True   \n",
       "4      38393.810176      37295.919777          False            True   \n",
       "\n",
       "   Transmission_Automatic  Transmission_Manual  FuelType_Diesel  \\\n",
       "0                    True                False             True   \n",
       "1                    True                False            False   \n",
       "2                    True                False            False   \n",
       "3                    True                False            False   \n",
       "4                    True                False            False   \n",
       "\n",
       "   FuelType_Electric  FuelType_Hybrid  FuelType_LPG  FuelType_Leaded  \\\n",
       "0              False            False         False            False   \n",
       "1              False            False         False            False   \n",
       "2              False            False         False            False   \n",
       "3              False            False         False            False   \n",
       "4              False            False         False            False   \n",
       "\n",
       "   FuelType_Premium  FuelType_Unleaded  brand  Enginec  Cylinder  \n",
       "0             False              False     56       14         3  \n",
       "1              True              False     37        7         3  \n",
       "2              True              False      4       12         3  \n",
       "3              True              False     42       46         6  \n",
       "4             False               True     51        5         3  "
      ]
     },
     "execution_count": 112,
     "metadata": {},
     "output_type": "execute_result"
    }
   ],
   "source": [
    "# Now to Remove the Unnecessary Columns and only keeping the transformed columns\n",
    "\n",
    "cardf.drop(columns = ['Brand','Engine','CylindersinEngine','Model','Title','Year','Car/Suv','DriveType','FuelConsumption','Interior','Exterior','ColourExtInt','Location','BodyType'], inplace = True)\n",
    "\n",
    "cardf.head()"
   ]
  },
  {
   "cell_type": "markdown",
   "id": "7d97d867-ab19-43dd-8a46-05414ab10434",
   "metadata": {},
   "source": [
    "# Dataset Ready\n",
    "\n",
    "As visible from above, the Dataset which had all categorical values in different formats has been converted to numerical values and also sclaed to between 0 and 1 for the machine learning algorithms. "
   ]
  },
  {
   "cell_type": "markdown",
   "id": "4316aba5",
   "metadata": {},
   "source": [
    "# Splitting the Dataset\n",
    "\n",
    "This Dataset will be split in the proportion of 70% for Training and 30% for testing. The Price column will be predicted and hence, the Price column is the Y ."
   ]
  },
  {
   "cell_type": "code",
   "execution_count": 113,
   "id": "fc32fa62",
   "metadata": {},
   "outputs": [],
   "source": [
    "X = cardf.drop(columns=['Price'])\n",
    "\n",
    "y = cardf['Price']\n",
    "\n",
    "X_train, X_test, y_train, y_test = train_test_split(X, y, test_size=0.3, random_state=42)"
   ]
  },
  {
   "cell_type": "markdown",
   "id": "62b184fb",
   "metadata": {},
   "source": [
    "# Machine Learning\n",
    "\n",
    "Since this Car Price prediction is a regression problem, The Following Machine Learning Algorithms will be tried and tested:\n",
    "\n",
    "Linear regression,\n",
    "Decision Tree,\n",
    "Random Forest,\n",
    "Gradient Boosting,\n",
    "\n",
    "These algorithms will be Trained with a variety of different parameters.\n",
    "The Model with the least Mean squared error and best R2 score will be selected as the one the best predictions."
   ]
  },
  {
   "cell_type": "code",
   "execution_count": 114,
   "id": "4f7e5ec1",
   "metadata": {},
   "outputs": [
    {
     "name": "stdout",
     "output_type": "stream",
     "text": [
      "Linear Regression: RMSE = 11958.061785028793, R2 Score = 0.8462901626785428\n"
     ]
    }
   ],
   "source": [
    "lr_model = LinearRegression()\n",
    "lr_model.fit(X_train, y_train)\n",
    "y_pred_lr = lr_model.predict(X_test)\n",
    "rmse_lr = np.sqrt(mean_squared_error(y_test, y_pred_lr))\n",
    "r2_lr = r2_score(y_test, y_pred_lr)\n",
    "print(f\"Linear Regression: RMSE = {rmse_lr}, R2 Score = {r2_lr}\")"
   ]
  },
  {
   "cell_type": "code",
   "execution_count": 115,
   "id": "cea4ca80",
   "metadata": {},
   "outputs": [
    {
     "name": "stdout",
     "output_type": "stream",
     "text": [
      "Decision Tree: RMSE = 12719.849642276124, R2 Score = 0.826082200337482\n"
     ]
    }
   ],
   "source": [
    "dt_model = DecisionTreeRegressor(random_state=42)\n",
    "dt_model.fit(X_train, y_train)\n",
    "y_pred_dt = dt_model.predict(X_test)\n",
    "rmse_dt = np.sqrt(mean_squared_error(y_test, y_pred_dt))\n",
    "r2_dt = r2_score(y_test, y_pred_dt)\n",
    "print(f\"Decision Tree: RMSE = {rmse_dt}, R2 Score = {r2_dt}\")"
   ]
  },
  {
   "cell_type": "code",
   "execution_count": 116,
   "id": "40f3a6e1",
   "metadata": {},
   "outputs": [
    {
     "name": "stdout",
     "output_type": "stream",
     "text": [
      "Random Forest: RMSE = 8333.382583661583, R2 Score = 0.9253512193392236\n"
     ]
    }
   ],
   "source": [
    "rf_model = RandomForestRegressor(random_state=42)\n",
    "rf_model.fit(X_train, y_train)\n",
    "y_pred_rf = rf_model.predict(X_test)\n",
    "rmse_rf = np.sqrt(mean_squared_error(y_test, y_pred_rf))\n",
    "r2_rf = r2_score(y_test, y_pred_rf)\n",
    "print(f\"Random Forest: RMSE = {rmse_rf}, R2 Score = {r2_rf}\")"
   ]
  },
  {
   "cell_type": "code",
   "execution_count": 117,
   "id": "c96a350c",
   "metadata": {},
   "outputs": [
    {
     "name": "stdout",
     "output_type": "stream",
     "text": [
      "Gradient Boosting: RMSE = 9431.230407758905, R2 Score = 0.904387034844833\n"
     ]
    }
   ],
   "source": [
    "gb_model = GradientBoostingRegressor(random_state=42)\n",
    "gb_model.fit(X_train, y_train)\n",
    "y_pred_gb = gb_model.predict(X_test)\n",
    "rmse_gb = np.sqrt(mean_squared_error(y_test, y_pred_gb))\n",
    "r2_gb = r2_score(y_test, y_pred_gb)\n",
    "print(f\"Gradient Boosting: RMSE = {rmse_gb}, R2 Score = {r2_gb}\")"
   ]
  },
  {
   "cell_type": "markdown",
   "id": "ca94ad7b",
   "metadata": {},
   "source": [
    "# Results\n",
    "\n",
    "As Seen Above, the Model returns the following results:\n",
    "\n",
    "R2 Score For Linear regression 0.84\n",
    "R2 Score For Decision tree regression 0.82\n",
    "R2 Score For Random Forest regression 0.925\n",
    "R2 Score For Gradient Boosting regression 0.90\n",
    "\n",
    "Since the Mean squared Error is the least for the Random Forest regression it can be said that this is the best performing Machine Learning Model for this dataset as it can predict used car prices with upto 92% accuracy and has the minimum Root Mean Squared Error of 8333. "
   ]
  },
  {
   "cell_type": "markdown",
   "id": "a331ad0a",
   "metadata": {},
   "source": [
    "# Conclusion and Recommendations\n",
    "\n",
    "This Dataset contains Valuable Information about the Different Used car Types and the prices in Australia.\n",
    "\n",
    "The Machine Learning Pipeline is complete and as per results, The Random Forest regressor is the best model.\n",
    "\n",
    "These reults can be futher made better by indulging in Hyper parameter tuning of different algorithms. \n",
    "\n",
    "However, there are certain Design Decisions that were taken to optimize the results and they need to be understood:\n",
    "\n",
    "The Age and Kilometres Column were scaled in the Reverse order as The More the age and Kilometres, the less likely the Value of the Car is to be. \n",
    "\n",
    "The Interior and Exterior Columns Could be One Hot Encoded but that would significantly increase the dimensionality of the Data.\n",
    "\n",
    "The No of Doors, Seats, Cylinders could be Label Encoded but it was chosen to keep their values as they help to understand the number attribute of the features. "
   ]
  }
 ],
 "metadata": {
  "kernelspec": {
   "display_name": "Python 3 (ipykernel)",
   "language": "python",
   "name": "python3"
  },
  "language_info": {
   "codemirror_mode": {
    "name": "ipython",
    "version": 3
   },
   "file_extension": ".py",
   "mimetype": "text/x-python",
   "name": "python",
   "nbconvert_exporter": "python",
   "pygments_lexer": "ipython3",
   "version": "3.11.7"
  }
 },
 "nbformat": 4,
 "nbformat_minor": 5
}
