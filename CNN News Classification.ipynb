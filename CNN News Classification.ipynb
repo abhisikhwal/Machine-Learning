{
 "cells": [
  {
   "cell_type": "markdown",
   "id": "a7d8521c-9c9f-4d66-873d-571568d82dfc",
   "metadata": {},
   "source": [
    "# CNN News Article Text Classification Pipeline\n",
    "\n",
    "By Abhinav Sikhwal\n"
   ]
  },
  {
   "cell_type": "markdown",
   "id": "1f2dbc34-5f86-48c5-a687-cb3063dbad46",
   "metadata": {},
   "source": [
    "# Business Objective\n",
    "\n",
    "This Text Classification Pipeline is performed on the CNN News Articles Dataset. The Dataset contains text from Articles of CNN News Company from 2011 to 2022 and their relevant category and sections for training a Machine Learning Model.\n",
    "\n",
    "The Dataset has been retrieved from Kaggle - https://www.kaggle.com/datasets/hadasu92/cnn-articles-after-basic-cleaning . \n",
    "\n",
    "The objective is to conduct a thorough analysis of the text of all articles in the Dataset, beginning with Cleaning and Preprocessing of the text and Train a Machine learning model to accurately classify the articles into relevant categories based on the content of the text of the article. A model like this can help to classify articles correctly playing an important role in the media management of a News Media Company like CNN. "
   ]
  },
  {
   "cell_type": "markdown",
   "id": "bc194d9b-91a8-46cc-aa55-5029f8179003",
   "metadata": {},
   "source": [
    "# Problem Statement\n",
    "\n",
    "The Dataset contains text from Articles from 2011 to 2022 and contains articles relating to various subjects like Sports, News, Politics and so on. Since the text columns contains the whole text of each article it can be used to tokenize and train classification algorithms to predict categories. Lets proceed with exploring the dataset. "
   ]
  },
  {
   "cell_type": "markdown",
   "id": "4c193240-d663-4c80-b035-5ee7e3171f2b",
   "metadata": {},
   "source": [
    "# Importing Necessary Libraries "
   ]
  },
  {
   "cell_type": "code",
   "execution_count": 35,
   "id": "629bc80a-fc7e-41e7-8047-72eb7c1eb886",
   "metadata": {},
   "outputs": [
    {
     "name": "stderr",
     "output_type": "stream",
     "text": [
      "[nltk_data] Downloading package punkt to /Users/abhinav/nltk_data...\n",
      "[nltk_data]   Package punkt is already up-to-date!\n",
      "[nltk_data] Downloading package stopwords to\n",
      "[nltk_data]     /Users/abhinav/nltk_data...\n",
      "[nltk_data]   Package stopwords is already up-to-date!\n",
      "[nltk_data] Downloading package wordnet to /Users/abhinav/nltk_data...\n",
      "[nltk_data]   Package wordnet is already up-to-date!\n",
      "[nltk_data] Downloading package averaged_perceptron_tagger to\n",
      "[nltk_data]     /Users/abhinav/nltk_data...\n",
      "[nltk_data]   Package averaged_perceptron_tagger is already up-to-\n",
      "[nltk_data]       date!\n"
     ]
    },
    {
     "data": {
      "text/plain": [
       "True"
      ]
     },
     "execution_count": 35,
     "metadata": {},
     "output_type": "execute_result"
    }
   ],
   "source": [
    "import pandas as pd\n",
    "import numpy as np\n",
    "import re\n",
    "import nltk\n",
    "from nltk.corpus import stopwords\n",
    "from nltk.tokenize import word_tokenize, sent_tokenize\n",
    "from nltk.stem import PorterStemmer, WordNetLemmatizer\n",
    "from sklearn.feature_extraction.text import TfidfVectorizer\n",
    "from sklearn.model_selection import train_test_split, StratifiedKFold, GridSearchCV\n",
    "from sklearn.pipeline import Pipeline\n",
    "from sklearn.metrics import classification_report, accuracy_score, confusion_matrix, ConfusionMatrixDisplay\n",
    "import matplotlib.pyplot as plt\n",
    "from sklearn.linear_model import LogisticRegression\n",
    "from sklearn.naive_bayes import MultinomialNB\n",
    "import seaborn as sns\n",
    "from sklearn.preprocessing import StandardScaler\n",
    "\n",
    "\n",
    "nltk.download('punkt')\n",
    "nltk.download('stopwords')\n",
    "nltk.download('wordnet')\n",
    "nltk.download('averaged_perceptron_tagger')"
   ]
  },
  {
   "cell_type": "markdown",
   "id": "a31c1e8e-cc2d-47c6-bc88-44c4326b9d32",
   "metadata": {},
   "source": [
    "# Read the Dataset\n",
    "\n",
    "I will be using pandas to load the dataset obtained from Kaggle."
   ]
  },
  {
   "cell_type": "code",
   "execution_count": 37,
   "id": "1be74c45-35cd-4ccb-a5b7-8cd3e6037caf",
   "metadata": {},
   "outputs": [],
   "source": [
    "newdf = pd.read_csv('CNN_Articels_cleaned.csv')"
   ]
  },
  {
   "cell_type": "markdown",
   "id": "9d96c67b-45c1-4807-b7ed-9e9aab3d3a70",
   "metadata": {},
   "source": [
    "# Data Exploration"
   ]
  },
  {
   "cell_type": "code",
   "execution_count": 39,
   "id": "1861397c-438e-4a85-b4dd-65c247362ca3",
   "metadata": {},
   "outputs": [
    {
     "data": {
      "text/html": [
       "<div>\n",
       "<style scoped>\n",
       "    .dataframe tbody tr th:only-of-type {\n",
       "        vertical-align: middle;\n",
       "    }\n",
       "\n",
       "    .dataframe tbody tr th {\n",
       "        vertical-align: top;\n",
       "    }\n",
       "\n",
       "    .dataframe thead th {\n",
       "        text-align: right;\n",
       "    }\n",
       "</style>\n",
       "<table border=\"1\" class=\"dataframe\">\n",
       "  <thead>\n",
       "    <tr style=\"text-align: right;\">\n",
       "      <th></th>\n",
       "      <th>Index</th>\n",
       "      <th>Author</th>\n",
       "      <th>Date published</th>\n",
       "      <th>Category</th>\n",
       "      <th>Section</th>\n",
       "      <th>Url</th>\n",
       "      <th>Headline</th>\n",
       "      <th>Description</th>\n",
       "      <th>Keywords</th>\n",
       "      <th>Second headline</th>\n",
       "      <th>Article text</th>\n",
       "    </tr>\n",
       "  </thead>\n",
       "  <tbody>\n",
       "    <tr>\n",
       "      <th>0</th>\n",
       "      <td>0</td>\n",
       "      <td>Jacopo Prisco, CNN</td>\n",
       "      <td>2021-07-15 02:46:59</td>\n",
       "      <td>news</td>\n",
       "      <td>world</td>\n",
       "      <td>https://www.cnn.com/2021/07/14/world/tusimple-...</td>\n",
       "      <td>There's a shortage of truckers, but TuSimple t...</td>\n",
       "      <td>The e-commerce boom has exacerbated a global t...</td>\n",
       "      <td>world, There's a shortage of truckers, but TuS...</td>\n",
       "      <td>There's a shortage of truckers, but TuSimple t...</td>\n",
       "      <td>(CNN)Right now, there's a shortage of truck d...</td>\n",
       "    </tr>\n",
       "    <tr>\n",
       "      <th>1</th>\n",
       "      <td>1</td>\n",
       "      <td>Stephanie Bailey, CNN</td>\n",
       "      <td>2021-05-12 07:52:09</td>\n",
       "      <td>news</td>\n",
       "      <td>world</td>\n",
       "      <td>https://www.cnn.com/2021/05/12/world/ironhand-...</td>\n",
       "      <td>Bioservo's robotic 'Ironhand' could protect fa...</td>\n",
       "      <td>Working in a factory can mean doing the same t...</td>\n",
       "      <td>world, Bioservo's robotic 'Ironhand' could pro...</td>\n",
       "      <td>A robotic 'Ironhand' could protect factory wor...</td>\n",
       "      <td>(CNN)Working in a factory or warehouse can me...</td>\n",
       "    </tr>\n",
       "    <tr>\n",
       "      <th>2</th>\n",
       "      <td>2</td>\n",
       "      <td>Words by Stephanie Bailey, video by Zahra Jamshed</td>\n",
       "      <td>2021-06-16 02:51:30</td>\n",
       "      <td>news</td>\n",
       "      <td>asia</td>\n",
       "      <td>https://www.cnn.com/2021/06/15/asia/swarm-robo...</td>\n",
       "      <td>This swarm of robots gets smarter the more it ...</td>\n",
       "      <td>In a Hong Kong warehouse, a swarm of autonomou...</td>\n",
       "      <td>asia, This swarm of robots gets smarter the mo...</td>\n",
       "      <td>This swarm of robots gets smarter the more it ...</td>\n",
       "      <td>(CNN)In a Hong Kong warehouse, a swarm of aut...</td>\n",
       "    </tr>\n",
       "    <tr>\n",
       "      <th>3</th>\n",
       "      <td>3</td>\n",
       "      <td>Kathryn Vasel</td>\n",
       "      <td>2022-03-18 14:37:21</td>\n",
       "      <td>business</td>\n",
       "      <td>success</td>\n",
       "      <td>https://www.cnn.com/2022/03/18/success/pandemi...</td>\n",
       "      <td>Two years later, remote work has changed milli...</td>\n",
       "      <td>Here's a look at how the pandemic reshaped peo...</td>\n",
       "      <td>success, Two years later, remote work has chan...</td>\n",
       "      <td>Two years later, remote work has changed milli...</td>\n",
       "      <td>The pandemic thrust the working world into a n...</td>\n",
       "    </tr>\n",
       "    <tr>\n",
       "      <th>4</th>\n",
       "      <td>4</td>\n",
       "      <td>Paul R. La Monica, CNN Business</td>\n",
       "      <td>2022-03-19 11:41:08</td>\n",
       "      <td>business</td>\n",
       "      <td>investing</td>\n",
       "      <td>https://www.cnn.com/2022/03/19/investing/march...</td>\n",
       "      <td>Why March is so volatile for stocks - CNN</td>\n",
       "      <td>March Madness isn't just for college basketbal...</td>\n",
       "      <td>investing, Why March is so volatile for stocks...</td>\n",
       "      <td>Why March is so volatile for stocks</td>\n",
       "      <td>New York (CNN Business)March Madness isn't jus...</td>\n",
       "    </tr>\n",
       "    <tr>\n",
       "      <th>5</th>\n",
       "      <td>5</td>\n",
       "      <td>Chris Isidore, CNN Business</td>\n",
       "      <td>2022-03-20 11:36:43</td>\n",
       "      <td>business</td>\n",
       "      <td>investing</td>\n",
       "      <td>https://www.cnn.com/2022/03/20/investing/stock...</td>\n",
       "      <td>Stocks week ahead: Big Oil rakes in billions a...</td>\n",
       "      <td>As crude prices surge, oil companies are rakin...</td>\n",
       "      <td>investing, Stocks week ahead: Big Oil rakes in...</td>\n",
       "      <td>Big Oil rakes in billions as prices soar. Lawm...</td>\n",
       "      <td>A version of this story first appeared in CNN ...</td>\n",
       "    </tr>\n",
       "    <tr>\n",
       "      <th>6</th>\n",
       "      <td>6</td>\n",
       "      <td>Matt Egan, CNN Business</td>\n",
       "      <td>2022-03-18 14:26:26</td>\n",
       "      <td>business</td>\n",
       "      <td>energy</td>\n",
       "      <td>https://www.cnn.com/2022/03/18/energy/oil-russ...</td>\n",
       "      <td>Oil 'emergency': Work from home and drive slow...</td>\n",
       "      <td>Governments around the world must consider dra...</td>\n",
       "      <td>energy, Oil 'emergency': Work from home and dr...</td>\n",
       "      <td>Oil 'emergency': Work from home and drive slow...</td>\n",
       "      <td>New York (CNN Business)Governments around the ...</td>\n",
       "    </tr>\n",
       "    <tr>\n",
       "      <th>7</th>\n",
       "      <td>7</td>\n",
       "      <td>As told to by Chris Wellisz, International Mon...</td>\n",
       "      <td>2022-03-20 12:57:36</td>\n",
       "      <td>business</td>\n",
       "      <td>perspectives</td>\n",
       "      <td>https://www.cnn.com/2022/03/20/perspectives/im...</td>\n",
       "      <td>Opinion: Technology is transforming the nature...</td>\n",
       "      <td>The convenience of digital payments to both co...</td>\n",
       "      <td>perspectives, Opinion: Technology is transform...</td>\n",
       "      <td>Technology is transforming the nature of money...</td>\n",
       "      <td>This interview has been edited from its origin...</td>\n",
       "    </tr>\n",
       "    <tr>\n",
       "      <th>8</th>\n",
       "      <td>8</td>\n",
       "      <td>Paul R. La Monica, CNN Business</td>\n",
       "      <td>2022-03-18 17:14:11</td>\n",
       "      <td>business</td>\n",
       "      <td>investing</td>\n",
       "      <td>https://www.cnn.com/2022/03/18/investing/smart...</td>\n",
       "      <td>Inflation is everywhere. Except your cell phon...</td>\n",
       "      <td>Inflation is everywhere: grocery stores, gas s...</td>\n",
       "      <td>investing, Inflation is everywhere. Except you...</td>\n",
       "      <td>Inflation is everywhere. Except your cell phon...</td>\n",
       "      <td>New York (CNN Business)Inflation is everywhere...</td>\n",
       "    </tr>\n",
       "    <tr>\n",
       "      <th>9</th>\n",
       "      <td>9</td>\n",
       "      <td>Jordan Valinsky, CNN Business</td>\n",
       "      <td>2022-03-18 11:32:30</td>\n",
       "      <td>business</td>\n",
       "      <td>business-food</td>\n",
       "      <td>https://www.cnn.com/2022/03/18/business-food/b...</td>\n",
       "      <td>Burger King partner 'refuses' to close 800 Rus...</td>\n",
       "      <td>Burger King is trying to suspend its operation...</td>\n",
       "      <td>business-food, Burger King partner 'refuses' t...</td>\n",
       "      <td>Burger King franchise 'refuses' to close 800 R...</td>\n",
       "      <td>New York (CNN Business)Burger King is trying t...</td>\n",
       "    </tr>\n",
       "  </tbody>\n",
       "</table>\n",
       "</div>"
      ],
      "text/plain": [
       "   Index                                             Author  \\\n",
       "0      0                                 Jacopo Prisco, CNN   \n",
       "1      1                              Stephanie Bailey, CNN   \n",
       "2      2  Words by Stephanie Bailey, video by Zahra Jamshed   \n",
       "3      3                                     Kathryn Vasel    \n",
       "4      4                    Paul R. La Monica, CNN Business   \n",
       "5      5                        Chris Isidore, CNN Business   \n",
       "6      6                            Matt Egan, CNN Business   \n",
       "7      7  As told to by Chris Wellisz, International Mon...   \n",
       "8      8                    Paul R. La Monica, CNN Business   \n",
       "9      9                      Jordan Valinsky, CNN Business   \n",
       "\n",
       "        Date published  Category        Section  \\\n",
       "0  2021-07-15 02:46:59      news          world   \n",
       "1  2021-05-12 07:52:09      news          world   \n",
       "2  2021-06-16 02:51:30      news           asia   \n",
       "3  2022-03-18 14:37:21  business        success   \n",
       "4  2022-03-19 11:41:08  business      investing   \n",
       "5  2022-03-20 11:36:43  business      investing   \n",
       "6  2022-03-18 14:26:26  business         energy   \n",
       "7  2022-03-20 12:57:36  business   perspectives   \n",
       "8  2022-03-18 17:14:11  business      investing   \n",
       "9  2022-03-18 11:32:30  business  business-food   \n",
       "\n",
       "                                                 Url  \\\n",
       "0  https://www.cnn.com/2021/07/14/world/tusimple-...   \n",
       "1  https://www.cnn.com/2021/05/12/world/ironhand-...   \n",
       "2  https://www.cnn.com/2021/06/15/asia/swarm-robo...   \n",
       "3  https://www.cnn.com/2022/03/18/success/pandemi...   \n",
       "4  https://www.cnn.com/2022/03/19/investing/march...   \n",
       "5  https://www.cnn.com/2022/03/20/investing/stock...   \n",
       "6  https://www.cnn.com/2022/03/18/energy/oil-russ...   \n",
       "7  https://www.cnn.com/2022/03/20/perspectives/im...   \n",
       "8  https://www.cnn.com/2022/03/18/investing/smart...   \n",
       "9  https://www.cnn.com/2022/03/18/business-food/b...   \n",
       "\n",
       "                                            Headline  \\\n",
       "0  There's a shortage of truckers, but TuSimple t...   \n",
       "1  Bioservo's robotic 'Ironhand' could protect fa...   \n",
       "2  This swarm of robots gets smarter the more it ...   \n",
       "3  Two years later, remote work has changed milli...   \n",
       "4          Why March is so volatile for stocks - CNN   \n",
       "5  Stocks week ahead: Big Oil rakes in billions a...   \n",
       "6  Oil 'emergency': Work from home and drive slow...   \n",
       "7  Opinion: Technology is transforming the nature...   \n",
       "8  Inflation is everywhere. Except your cell phon...   \n",
       "9  Burger King partner 'refuses' to close 800 Rus...   \n",
       "\n",
       "                                         Description  \\\n",
       "0  The e-commerce boom has exacerbated a global t...   \n",
       "1  Working in a factory can mean doing the same t...   \n",
       "2  In a Hong Kong warehouse, a swarm of autonomou...   \n",
       "3  Here's a look at how the pandemic reshaped peo...   \n",
       "4  March Madness isn't just for college basketbal...   \n",
       "5  As crude prices surge, oil companies are rakin...   \n",
       "6  Governments around the world must consider dra...   \n",
       "7  The convenience of digital payments to both co...   \n",
       "8  Inflation is everywhere: grocery stores, gas s...   \n",
       "9  Burger King is trying to suspend its operation...   \n",
       "\n",
       "                                            Keywords  \\\n",
       "0  world, There's a shortage of truckers, but TuS...   \n",
       "1  world, Bioservo's robotic 'Ironhand' could pro...   \n",
       "2  asia, This swarm of robots gets smarter the mo...   \n",
       "3  success, Two years later, remote work has chan...   \n",
       "4  investing, Why March is so volatile for stocks...   \n",
       "5  investing, Stocks week ahead: Big Oil rakes in...   \n",
       "6  energy, Oil 'emergency': Work from home and dr...   \n",
       "7  perspectives, Opinion: Technology is transform...   \n",
       "8  investing, Inflation is everywhere. Except you...   \n",
       "9  business-food, Burger King partner 'refuses' t...   \n",
       "\n",
       "                                     Second headline  \\\n",
       "0  There's a shortage of truckers, but TuSimple t...   \n",
       "1  A robotic 'Ironhand' could protect factory wor...   \n",
       "2  This swarm of robots gets smarter the more it ...   \n",
       "3  Two years later, remote work has changed milli...   \n",
       "4                Why March is so volatile for stocks   \n",
       "5  Big Oil rakes in billions as prices soar. Lawm...   \n",
       "6  Oil 'emergency': Work from home and drive slow...   \n",
       "7  Technology is transforming the nature of money...   \n",
       "8  Inflation is everywhere. Except your cell phon...   \n",
       "9  Burger King franchise 'refuses' to close 800 R...   \n",
       "\n",
       "                                        Article text  \n",
       "0   (CNN)Right now, there's a shortage of truck d...  \n",
       "1   (CNN)Working in a factory or warehouse can me...  \n",
       "2   (CNN)In a Hong Kong warehouse, a swarm of aut...  \n",
       "3  The pandemic thrust the working world into a n...  \n",
       "4  New York (CNN Business)March Madness isn't jus...  \n",
       "5  A version of this story first appeared in CNN ...  \n",
       "6  New York (CNN Business)Governments around the ...  \n",
       "7  This interview has been edited from its origin...  \n",
       "8  New York (CNN Business)Inflation is everywhere...  \n",
       "9  New York (CNN Business)Burger King is trying t...  "
      ]
     },
     "execution_count": 39,
     "metadata": {},
     "output_type": "execute_result"
    }
   ],
   "source": [
    "# To get a first look of the dataset\n",
    "newdf.head(10)"
   ]
  },
  {
   "cell_type": "code",
   "execution_count": 40,
   "id": "ee0860c2-a780-4cd4-b20f-e7c5513e1ff4",
   "metadata": {},
   "outputs": [
    {
     "data": {
      "text/plain": [
       "(37949, 11)"
      ]
     },
     "execution_count": 40,
     "metadata": {},
     "output_type": "execute_result"
    }
   ],
   "source": [
    "# To check the size of the dataset\n",
    "newdf.shape"
   ]
  },
  {
   "cell_type": "code",
   "execution_count": 41,
   "id": "cd4e9a50-0de7-40e1-b1ce-cee81391fc4a",
   "metadata": {},
   "outputs": [
    {
     "name": "stdout",
     "output_type": "stream",
     "text": [
      "<class 'pandas.core.frame.DataFrame'>\n",
      "RangeIndex: 37949 entries, 0 to 37948\n",
      "Data columns (total 11 columns):\n",
      " #   Column           Non-Null Count  Dtype \n",
      "---  ------           --------------  ----- \n",
      " 0   Index            37949 non-null  int64 \n",
      " 1   Author           37949 non-null  object\n",
      " 2   Date published   37949 non-null  object\n",
      " 3   Category         37949 non-null  object\n",
      " 4   Section          37949 non-null  object\n",
      " 5   Url              37949 non-null  object\n",
      " 6   Headline         37949 non-null  object\n",
      " 7   Description      37949 non-null  object\n",
      " 8   Keywords         37949 non-null  object\n",
      " 9   Second headline  37949 non-null  object\n",
      " 10  Article text     37940 non-null  object\n",
      "dtypes: int64(1), object(10)\n",
      "memory usage: 3.2+ MB\n"
     ]
    }
   ],
   "source": [
    "# To gather more information about the dataset\n",
    "newdf.info()"
   ]
  },
  {
   "cell_type": "code",
   "execution_count": 42,
   "id": "babbe2b2-a702-447f-8080-40f8c3180a04",
   "metadata": {},
   "outputs": [
    {
     "data": {
      "text/plain": [
       "Index              0\n",
       "Author             0\n",
       "Date published     0\n",
       "Category           0\n",
       "Section            0\n",
       "Url                0\n",
       "Headline           0\n",
       "Description        0\n",
       "Keywords           0\n",
       "Second headline    0\n",
       "Article text       9\n",
       "dtype: int64"
      ]
     },
     "execution_count": 42,
     "metadata": {},
     "output_type": "execute_result"
    }
   ],
   "source": [
    "# To check for null values in the dataset\n",
    "newdf.isna().sum()"
   ]
  },
  {
   "cell_type": "code",
   "execution_count": 43,
   "id": "590ad9d8-5554-4006-b55e-14ffb6a3b795",
   "metadata": {},
   "outputs": [],
   "source": [
    "# To remove the null values in the Article text column\n",
    "newdf = newdf.dropna(subset=['Article text'])"
   ]
  },
  {
   "cell_type": "code",
   "execution_count": 44,
   "id": "bad2bb61-7987-4cc8-93bc-4fd436d7aea2",
   "metadata": {},
   "outputs": [
    {
     "data": {
      "text/plain": [
       "Index              0\n",
       "Author             0\n",
       "Date published     0\n",
       "Category           0\n",
       "Section            0\n",
       "Url                0\n",
       "Headline           0\n",
       "Description        0\n",
       "Keywords           0\n",
       "Second headline    0\n",
       "Article text       0\n",
       "dtype: int64"
      ]
     },
     "execution_count": 44,
     "metadata": {},
     "output_type": "execute_result"
    }
   ],
   "source": [
    "newdf.isna().sum()"
   ]
  },
  {
   "cell_type": "markdown",
   "id": "dbd17fdb-fd46-4f96-aaab-f36373bfde04",
   "metadata": {},
   "source": [
    "# Dataset Description\n",
    "\n",
    "As visible above, This dataset contains 37949 Rows and 11 Columns / Features. The Dataset contains no null values. Aside from the index all other columns are in string format. The dataset is obtained cleaned and contains the follwing features about each article:\n",
    "\n",
    "The Author Name, Published Date, Category, Section, Headline, Description, Keywords, Second Headline and the Article Text.\n",
    "\n",
    "Now we can proceed with cleaning and preprocessing the data for machine learning."
   ]
  },
  {
   "cell_type": "markdown",
   "id": "41229f5f-a31a-4d32-9f40-aaa7d46c3461",
   "metadata": {},
   "source": [
    "# Data Cleaning & Preprocesing\n",
    "\n",
    "Since the dataset contains articles from 2011 to 2022 - it will be a time consuming process to train the model on the large quantity of data. For this purpose this dataset will be reduced to articles dated 1st January, 2019 onwards and for this the date published column will be converted to date time format. \n",
    "\n",
    "Since the data contains 7 categories - news, sport, politics, business, entertainment, health, travel. For the purpose of this pipeline we will be focusing on only the top 3 categories - news, sport and politics. Hence we will be removing the other categories from the dataset. "
   ]
  },
  {
   "cell_type": "code",
   "execution_count": 47,
   "id": "438fe25e-b54c-4d47-9b4b-0d6c84da1a80",
   "metadata": {},
   "outputs": [],
   "source": [
    "# Converting the 'Date Published' column to datetime format\n",
    "newdf['Date published'] = pd.to_datetime(newdf['Date published'], errors='coerce')\n",
    "\n",
    "# Filter articles from 2015 onwards\n",
    "newdf = newdf[newdf['Date published'] >= '2019-01-01']"
   ]
  },
  {
   "cell_type": "code",
   "execution_count": 48,
   "id": "badfce2c-4b20-4cb7-a3f1-4440478b5a3a",
   "metadata": {},
   "outputs": [
    {
     "data": {
      "text/plain": [
       "(17337, 11)"
      ]
     },
     "execution_count": 48,
     "metadata": {},
     "output_type": "execute_result"
    }
   ],
   "source": [
    "newdf.shape"
   ]
  },
  {
   "cell_type": "code",
   "execution_count": 49,
   "id": "a1612c0d-f540-43c5-935b-f1911d2463ea",
   "metadata": {},
   "outputs": [
    {
     "name": "stdout",
     "output_type": "stream",
     "text": [
      "Category counts:\n",
      " Category\n",
      "news             7897\n",
      "sport            6259\n",
      "politics         1788\n",
      "business          808\n",
      "entertainment     294\n",
      "health            262\n",
      "travel             29\n",
      "Name: count, dtype: int64\n"
     ]
    }
   ],
   "source": [
    "# Check value counts in the Category column\n",
    "category_counts = newdf['Category'].value_counts()\n",
    "print(\"Category counts:\\n\", category_counts)"
   ]
  },
  {
   "cell_type": "code",
   "execution_count": 50,
   "id": "4410c732-16ba-4e8b-9e01-6053e5bf9426",
   "metadata": {},
   "outputs": [
    {
     "name": "stdout",
     "output_type": "stream",
     "text": [
      "Top 3 categories: Index(['news', 'sport', 'politics'], dtype='object', name='Category')\n",
      "Filtered Category counts:\n",
      " Category\n",
      "news        7897\n",
      "sport       6259\n",
      "politics    1788\n",
      "Name: count, dtype: int64\n"
     ]
    }
   ],
   "source": [
    "# Get the top 3 categories\n",
    "top_3_categories = category_counts.nlargest(3).index\n",
    "print(f\"Top 3 categories: {top_3_categories}\")\n",
    "\n",
    "# Filter the DataFrame to only include the top 3 categories\n",
    "newdf = newdf[newdf['Category'].isin(top_3_categories)]\n",
    "\n",
    "# Check the value counts again to confirm\n",
    "print(\"Filtered Category counts:\\n\", newdf['Category'].value_counts())"
   ]
  },
  {
   "cell_type": "markdown",
   "id": "7202e40b-747e-4291-9cfd-dc0c4cb0b0d1",
   "metadata": {},
   "source": [
    "# Pre-processing Results \n",
    "\n",
    "After processing the dataset it is ready for feature Engineering. Now the dataset contains 7897 News Articles, 6259 Sport Articles and 1788 politics articles. The Article Text column will be used to de-noise the data and perform Feature Engineering. "
   ]
  },
  {
   "cell_type": "markdown",
   "id": "ce6e4cbe-bc28-46da-aeb4-9950397c83ed",
   "metadata": {},
   "source": [
    "# Feature Engineering\n",
    "\n",
    "The text column will be transformed using Re and NLTK library in python. \n",
    "\n",
    "These steps will turn the text into lowercase, remove digits and remove any punctuations. \n",
    "\n",
    "Furthermore the text will be broken down into sentences and the sentences will be tokenized to obtain word tokens which then will be stemmed and lemmatized. After these functions are applied on the Article text column we will have a dataset which is ready for classification algorithms."
   ]
  },
  {
   "cell_type": "code",
   "execution_count": 53,
   "id": "d21ef6e0-4954-4061-bb0d-77c4319c7820",
   "metadata": {},
   "outputs": [],
   "source": [
    "# Function for cleaning text of the Article column\n",
    "def clean_text(text):\n",
    "    text = text.lower()  # Lowercasing\n",
    "    text = re.sub(r'\\d+', '', text)  # Removing digits\n",
    "    text = re.sub(r'[^\\w\\s]', '', text)  # Removing punctuations\n",
    "    return text"
   ]
  },
  {
   "cell_type": "code",
   "execution_count": 54,
   "id": "25fc79b8-aa5e-479c-931e-68518a81b099",
   "metadata": {},
   "outputs": [],
   "source": [
    "# Function for preprocessing the text  of the Article column\n",
    "def preprocess_text(text):\n",
    "    # Sentence segmentation of the Articles\n",
    "    sentences = sent_tokenize(text)\n",
    "    # Word tokenization and stop word removal of the Articles\n",
    "    words = [word_tokenize(sentence) for sentence in sentences]\n",
    "    stop_words = set(stopwords.words('english'))\n",
    "    words = [[word for word in sentence if word not in stop_words] for sentence in words]\n",
    "    # Stemming and lemmatization of the tokens\n",
    "    stemmer = PorterStemmer()\n",
    "    lemmatizer = WordNetLemmatizer()\n",
    "    words = [[lemmatizer.lemmatize(stemmer.stem(word)) for word in sentence] for sentence in words]\n",
    "    return [' '.join(sentence) for sentence in words]"
   ]
  },
  {
   "cell_type": "code",
   "execution_count": 55,
   "id": "f17b2265-7c6b-476c-a974-b7924d93554d",
   "metadata": {},
   "outputs": [],
   "source": [
    "# Applying the text cleaning and preprocessing on the Article Text column\n",
    "newdf['cleaned_text'] = newdf['Article text'].apply(clean_text).apply(preprocess_text).apply(lambda x: ' '.join(x))"
   ]
  },
  {
   "cell_type": "code",
   "execution_count": 56,
   "id": "25268bde-ae34-48b0-b9c2-30da481cf5bf",
   "metadata": {},
   "outputs": [],
   "source": [
    "# Converting the target variable (Category) to categorical codes\n",
    "newdf['target'] = newdf['Category'].astype('category').cat.codes\n",
    "# Defining the target names to be used while evaluating and predicting\n",
    "target_names = newdf['Category'].astype('category').cat.categories.tolist()"
   ]
  },
  {
   "cell_type": "markdown",
   "id": "0a08b503-ce48-4d20-b5cf-508466bfed23",
   "metadata": {},
   "source": [
    "# Splitting the Dataset\n",
    "\n",
    "The model will be trained on 80% of the data and 20% will be used for testing the model. For this purpose, train test split from Scikit learn will be used."
   ]
  },
  {
   "cell_type": "code",
   "execution_count": 58,
   "id": "acc7df0a-8899-42b3-8f10-02cda881b864",
   "metadata": {},
   "outputs": [],
   "source": [
    "# Choosing the cleaned text as X and the categorical codes as the y \n",
    "X = newdf['cleaned_text']\n",
    "y = newdf['target']"
   ]
  },
  {
   "cell_type": "code",
   "execution_count": 59,
   "id": "06d7c671-18eb-432d-a0c2-170f6b37260d",
   "metadata": {},
   "outputs": [],
   "source": [
    "# Splitting the dataset in the 80:20 ratio\n",
    "X_train, X_test, y_train, y_test = train_test_split(X, y, test_size=0.2, random_state=42, stratify=y)"
   ]
  },
  {
   "cell_type": "markdown",
   "id": "f6a2cf2f-288b-4331-b1e5-2be1c15d0583",
   "metadata": {},
   "source": [
    "# Model Building\n",
    "\n",
    "For the purpose of text classification - a Logistic Regression and a Naive Bayes Classifier will be used to train and test the model. \n",
    "\n",
    "Both the models will use The TF-IDF vectorizer along with the hyperparameters to transform the text into numerical values identify relationship between tokens and learn to predict categories effectively."
   ]
  },
  {
   "cell_type": "code",
   "execution_count": 61,
   "id": "8843becf-3834-4bbb-a3e1-730b954ffd0f",
   "metadata": {},
   "outputs": [],
   "source": [
    "# Defining the pipelines for both the classifiers\n",
    "pipelines = {\n",
    "    'LogisticRegression': Pipeline([\n",
    "        ('tfidf', TfidfVectorizer()),\n",
    "        ('clf', LogisticRegression(max_iter=1000)) \n",
    "    ]),\n",
    "    'NaiveBayes': Pipeline([\n",
    "        ('tfidf', TfidfVectorizer()),\n",
    "        ('clf', MultinomialNB())\n",
    "    ])\n",
    "}"
   ]
  },
  {
   "cell_type": "markdown",
   "id": "d7177875-84fd-4667-9955-5bb7f9da1802",
   "metadata": {},
   "source": [
    "# Hyperparameters\n",
    "\n",
    "To obtain the best parameters for the model, the grid search technique will be used to train the data and find the best parameters for each model. \n",
    "\n",
    "The TF-IDF Max features that are to be tried are 1000, 5000 and 10000. \n",
    "\n",
    "The N-gram range that are to be tried are Unigrams and Bi-grams. \n",
    "\n",
    "The C value for regularization that are to be tried for Logistic regression are 0.1 , 1 and 10. \n",
    "\n",
    "The alpha value for Naive Bayes that are to be tried are 0.1, 0.5 and 1. \n"
   ]
  },
  {
   "cell_type": "code",
   "execution_count": 63,
   "id": "d098b705-6c7f-49ba-afbb-3fca9eaed8a4",
   "metadata": {},
   "outputs": [],
   "source": [
    "# Tuning the Hyperparameters for gridsearch for both the classifiers\n",
    "parameters = {\n",
    "    'LogisticRegression': {\n",
    "        'tfidf__max_features': [1000, 5000, 10000],\n",
    "        'tfidf__ngram_range': [(1, 1), (1, 2)],\n",
    "        'clf__C': [0.1, 1, 10],\n",
    "    },\n",
    "    'NaiveBayes': {\n",
    "        'tfidf__max_features': [1000, 5000, 10000],\n",
    "        'tfidf__ngram_range': [(1, 1), (1, 2)],\n",
    "        'clf__alpha': [0.1, 0.5, 1.0],\n",
    "    }\n",
    "}"
   ]
  },
  {
   "cell_type": "markdown",
   "id": "6e6dd636-22d4-4502-aac9-1df113028060",
   "metadata": {},
   "source": [
    "# Training and Evaluation \n",
    "\n",
    "The Grid Search technique will train the model using the specified parameters and find the best parameters for each model. \n",
    "\n",
    "These best parameters will be used to make predictions on the test set and release a classification report of the model which can help to identify the performance metrics of each model and help to choose the best model. \n",
    "\n",
    "Thereafter we will look at the Confusion Matrix of the Classifiers and understand the True Labels and Predicted labels for each category. \n"
   ]
  },
  {
   "cell_type": "code",
   "execution_count": 65,
   "id": "2e73d9e2-fdb5-4bf3-9aa9-5dd2a1704fe3",
   "metadata": {},
   "outputs": [
    {
     "name": "stdout",
     "output_type": "stream",
     "text": [
      "Training LogisticRegression...\n",
      "Fitting 3 folds for each of 18 candidates, totalling 54 fits\n",
      "[CV] END clf__C=0.1, tfidf__max_features=1000, tfidf__ngram_range=(1, 1); total time=   4.2s\n",
      "[CV] END clf__C=0.1, tfidf__max_features=5000, tfidf__ngram_range=(1, 2); total time=  27.9s\n",
      "[CV] END clf__C=1, tfidf__max_features=1000, tfidf__ngram_range=(1, 1); total time=   5.3s\n",
      "[CV] END clf__C=1, tfidf__max_features=5000, tfidf__ngram_range=(1, 1); total time=   6.6s\n",
      "[CV] END clf__C=1, tfidf__max_features=5000, tfidf__ngram_range=(1, 2); total time=  20.4s\n",
      "[CV] END clf__C=10, tfidf__max_features=1000, tfidf__ngram_range=(1, 2); total time=  22.4s\n",
      "[CV] END clf__C=10, tfidf__max_features=10000, tfidf__ngram_range=(1, 2); total time=  19.5s\n",
      "Best parameters found for LogisticRegression:\n",
      "{'clf__C': 10, 'tfidf__max_features': 10000, 'tfidf__ngram_range': (1, 2)}\n",
      "Classification Report for LogisticRegression:\n",
      "              precision    recall  f1-score   support\n",
      "\n",
      "        news       0.96      0.98      0.97      1579\n",
      "    politics       0.95      0.87      0.91       358\n",
      "       sport       0.98      0.98      0.98      1252\n",
      "\n",
      "    accuracy                           0.97      3189\n",
      "   macro avg       0.96      0.94      0.95      3189\n",
      "weighted avg       0.97      0.97      0.97      3189\n",
      "\n",
      "\n",
      "Confusion Matrix for LogisticRegression:\n"
     ]
    },
    {
     "data": {
      "image/png": "[encoded data removed]",
      "text/plain": [
       "<Figure size 640x480 with 2 Axes>"
      ]
     },
     "metadata": {},
     "output_type": "display_data"
    },
    {
     "name": "stdout",
     "output_type": "stream",
     "text": [
      "Training NaiveBayes...\n",
      "Fitting 3 folds for each of 18 candidates, totalling 54 fits\n",
      "[CV] END clf__C=0.1, tfidf__max_features=5000, tfidf__ngram_range=(1, 1); total time=   4.7s\n",
      "[CV] END clf__C=0.1, tfidf__max_features=10000, tfidf__ngram_range=(1, 1); total time=   6.1s\n",
      "[CV] END clf__C=0.1, tfidf__max_features=10000, tfidf__ngram_range=(1, 1); total time=   7.8s\n",
      "[CV] END clf__C=0.1, tfidf__max_features=10000, tfidf__ngram_range=(1, 2); total time=  21.2s\n",
      "[CV] END clf__C=1, tfidf__max_features=5000, tfidf__ngram_range=(1, 2); total time=  21.1s\n",
      "[CV] END clf__C=10, tfidf__max_features=1000, tfidf__ngram_range=(1, 2); total time=  21.5s\n",
      "[CV] END clf__C=10, tfidf__max_features=10000, tfidf__ngram_range=(1, 1); total time=  10.0s\n",
      "[CV] END clf__alpha=0.1, tfidf__max_features=1000, tfidf__ngram_range=(1, 1); total time=   3.6s\n",
      "[CV] END clf__alpha=0.1, tfidf__max_features=5000, tfidf__ngram_range=(1, 1); total time=   4.0s\n",
      "[CV] END clf__alpha=0.1, tfidf__max_features=10000, tfidf__ngram_range=(1, 1); total time=   4.9s\n",
      "[CV] END clf__alpha=0.1, tfidf__max_features=10000, tfidf__ngram_range=(1, 2); total time=  22.3s\n",
      "[CV] END clf__alpha=0.5, tfidf__max_features=5000, tfidf__ngram_range=(1, 2); total time=  19.2s\n",
      "[CV] END clf__alpha=1.0, tfidf__max_features=1000, tfidf__ngram_range=(1, 2); total time=  19.7s\n",
      "[CV] END clf__alpha=1.0, tfidf__max_features=10000, tfidf__ngram_range=(1, 2); total time=  14.6s\n",
      "Best parameters found for NaiveBayes:\n",
      "{'clf__alpha': 0.1, 'tfidf__max_features': 10000, 'tfidf__ngram_range': (1, 2)}\n",
      "Classification Report for NaiveBayes:\n",
      "              precision    recall  f1-score   support\n",
      "\n",
      "        news       0.94      0.94      0.94      1579\n",
      "    politics       0.82      0.84      0.83       358\n",
      "       sport       0.97      0.97      0.97      1252\n",
      "\n",
      "    accuracy                           0.94      3189\n",
      "   macro avg       0.91      0.92      0.91      3189\n",
      "weighted avg       0.94      0.94      0.94      3189\n",
      "\n",
      "\n",
      "Confusion Matrix for NaiveBayes:\n"
     ]
    },
    {
     "data": {
      "image/png": "[encoded data removed]",
      "text/plain": [
       "<Figure size 640x480 with 2 Axes>"
      ]
     },
     "metadata": {},
     "output_type": "display_data"
    }
   ],
   "source": [
    "# Training and evaluating both the models\n",
    "results = {}\n",
    "for name, pipeline in pipelines.items():\n",
    "    print(f\"Training {name}...\")\n",
    "    grid_search = GridSearchCV(pipeline, parameters[name], cv=3, n_jobs=-1, verbose=2)\n",
    "    grid_search.fit(X_train, y_train)\n",
    "    results[name] = grid_search\n",
    "    print(f\"Best parameters found for {name}:\")\n",
    "    print(grid_search.best_params_)\n",
    "    \n",
    "    y_pred = grid_search.predict(X_test)\n",
    "    print(f\"Classification Report for {name}:\")\n",
    "    print(classification_report(y_test, y_pred, target_names=target_names))\n",
    "    \n",
    "    print(f\"\\nConfusion Matrix for {name}:\")\n",
    "    cm = confusion_matrix(y_test, y_pred)\n",
    "    disp = ConfusionMatrixDisplay(confusion_matrix=cm, display_labels=target_names)\n",
    "    disp.plot(cmap=\"Blues\")\n",
    "    plt.show()"
   ]
  },
  {
   "cell_type": "markdown",
   "id": "bf72ada0-2617-45d4-9a87-f5976e3a32a4",
   "metadata": {},
   "source": [
    "# Model Evaluation (Logistic Regression)\n",
    "\n",
    "For Logistic Regression, we have the follwing best parameters as - \n",
    "\n",
    "TF-IDF Max Features = 10000, N-Gram = (1, 2) Bi-grams, Value of C = 10\n",
    "\n",
    "With these parameters the classification report obtained gives the follwing result - Overall Accuracy: 97%\n",
    "\n",
    "Precision, Recall, and F1-Score by Category:\n",
    "\n",
    "News:\n",
    "Precision: 0.96 -  96% of the articles predicted as \"news\" are actually \"news\" articles.\n",
    "Recall: 0.98 -  98% of the actual \"news\" articles were correctly identified. \n",
    "F1-Score: 0.97 - Harmonic Mean of Precision and Recall\n",
    "Support\n",
    "\n",
    "Politics:\n",
    "Precision: 0.95 - 95% of the articles predicted as \"politics\" are actually \"politics\" articles.\n",
    "Recall: 0.87 - 87% of the actual \"politics\" articles were correctly identified. \n",
    "F1-Score: 0.91 - Harmonic Mean of Precision and Recall\n",
    "\n",
    "Sport:\n",
    "Precision: 0.98 - 98% of the articles predicted as \"sport\" are actually \"sport\" articles.\n",
    "Recall: 0.98 - 98% of the actual \"sport\" articles were correctly identified. \n",
    "F1-Score: 0.98 - Harmonic Mean of Precision and Recall\n",
    "\n",
    "The Confusion Matrix for Naive Bayes explains that- \n",
    "\n",
    "News:\n",
    "Correctly Predicted (True Positives): 1543 Articles\n",
    "Incorrectly Predicted as Politics (False Negatives): 13 Articles\n",
    "Incorrectly Predicted as Sport (False Negatives): 23 Articles\n",
    "\n",
    "Politics:\n",
    "Correctly Predicted (True Positives): 301 Articles\n",
    "Incorrectly Predicted as News (False Negatives): 57 Articles\n",
    "Incorrectly Predicted as Sport (False Negatives): 0 Articles\n",
    "\n",
    "Sport:\n",
    "Correctly Predicted (True Positives): 1215 Articles\n",
    "Incorrectly Predicted as News (False Negatives): 36 Articles\n",
    "Incorrectly Predicted as Politics (False Negatives): 1 Articles\n",
    "\n"
   ]
  },
  {
   "cell_type": "markdown",
   "id": "2215f144-0507-4239-bb2a-50fbed511086",
   "metadata": {
    "jp-MarkdownHeadingCollapsed": true
   },
   "source": [
    "# Model Evaluation (Naive Bayes Classifier)\n",
    "\n",
    "For Naive Bayes, we have the follwing best parameters as - \n",
    "\n",
    "TF-IDF Max Features = 10000, N-Gram = (1, 2) Bi-grams, Value of alpha = 10\n",
    "\n",
    "With these parameters the classification report obtained gives the follwing result - Overall Accuracy: 94%\n",
    "\n",
    "Precision, Recall, and F1-Score by Category:\n",
    "\n",
    "News:\n",
    "Precision: 0.94 -  94% of the articles predicted as \"news\" are actually \"news\" articles.\n",
    "Recall: 0.94 -  94% of the actual \"news\" articles were correctly identified. \n",
    "F1-Score: 0.94 - Harmonic Mean of Precision and Recall\n",
    "\n",
    "Politics:\n",
    "Precision: 0.82 - 95% of the articles predicted as \"politics\" are actually \"politics\" articles.\n",
    "Recall: 0.84 - 87% of the actual \"politics\" articles were correctly identified. \n",
    "F1-Score: 0.83 - Harmonic Mean of Precision and Recall\n",
    "\n",
    "Sport:\n",
    "Precision: 0.97 - 97% of the articles predicted as \"sport\" are actually \"sport\" articles.\n",
    "Recall: 0.97 - 97% of the actual \"sport\" articles were correctly identified. \n",
    "F1-Score: 0.97 - Harmonic Mean of Precision and Recall\n",
    "\n",
    "The Confusion Matrix for Naive Bayes explains that- \n",
    "\n",
    "News:\n",
    "Correctly Predicted (True Positives): 1481 Articles\n",
    "Incorrectly Predicted as Politics (False Negatives): 63 Articles\n",
    "Incorrectly Predicted as Sport (False Negatives): 35 Articles\n",
    "\n",
    "Politics:\n",
    "Correctly Predicted (True Positives): 313 Articles\n",
    "Incorrectly Predicted as News (False Negatives): 42 Articles\n",
    "Incorrectly Predicted as Sport (False Negatives): 3 Articles\n",
    "\n",
    "Sport:\n",
    "Correctly Predicted (True Positives): 1226 Articles\n",
    "Incorrectly Predicted as News (False Negatives): 23 Articles\n",
    "Incorrectly Predicted as Politics (False Negatives): 3 Articles\n"
   ]
  },
  {
   "cell_type": "markdown",
   "id": "2ed92e56-4922-437d-9284-fa5f9161d479",
   "metadata": {},
   "source": [
    "# The Best Model for News Article Classification is Logistic Regression"
   ]
  },
  {
   "cell_type": "markdown",
   "id": "f0b4f2cf-1af0-4482-852a-af6ec67e9f8f",
   "metadata": {},
   "source": [
    "# Feature Importance\n",
    "\n",
    "After doing an analysis of the Prediction results, it would be interesting to check the top 10 features for each target category to understand which words each model has associated with its respective category. \n",
    "\n",
    "This will be done by using the coefficients of the top 10 words for each category for both the models. For Naive Bayes we will use the feature log. "
   ]
  },
  {
   "cell_type": "code",
   "execution_count": 70,
   "id": "5c206cdd-f194-45a1-9999-e9fa0a3f9493",
   "metadata": {},
   "outputs": [
    {
     "name": "stdout",
     "output_type": "stream",
     "text": [
      "\n",
      "Top 10 features for each category in LogisticRegression:\n",
      "\n",
      "Category: news\n",
      "opinion, cnn opinion, newsletterjoin twitter, newsletterjoin, newslettersign, free weekli, weekli newslettersign, newslettersign cnn, opinion cnn, london\n",
      "\n",
      "Category: politics\n",
      "administr, stori updat, white hous, updat addit, democrat, biden, offici, feder, updat, depart\n",
      "\n",
      "Category: sport\n",
      "footbal, team, club, player, champion, sport, athlet, leagu, olymp, cnncomsport news\n",
      "\n",
      "Top 10 features for each category in NaiveBayes:\n",
      "\n",
      "Category: news\n",
      "said, polic, peopl, uk, vaccin, countri, govern, state, year, report\n",
      "\n",
      "Category: politics\n",
      "trump, biden, republican, democrat, presid, elect, said, hous, vote, state\n",
      "\n",
      "Category: sport\n",
      "game, player, team, leagu, win, play, club, world, footbal, sport\n"
     ]
    }
   ],
   "source": [
    "# Feature Importance Analysis for both the models\n",
    "for name, result in results.items():\n",
    "    print(f\"\\nTop 10 features for each category in {name}:\")\n",
    "    feature_names = result.best_estimator_.named_steps['tfidf'].get_feature_names_out()\n",
    "\n",
    "    if name == 'LogisticRegression':\n",
    "        coefs = result.best_estimator_.named_steps['clf'].coef_\n",
    "        for idx in range(len(target_names)):\n",
    "            category = target_names[idx]\n",
    "            print(f\"\\nCategory: {category}\")\n",
    "            top_indices = np.argsort(coefs[idx])[-10:][::-1]\n",
    "            top_features = [feature_names[i] for i in top_indices]\n",
    "            print(\", \".join(top_features))\n",
    "\n",
    "    elif name == 'NaiveBayes':\n",
    "        log_probs = result.best_estimator_.named_steps['clf'].feature_log_prob_\n",
    "        for idx in range(len(target_names)):\n",
    "            category = target_names[idx]\n",
    "            print(f\"\\nCategory: {category}\")\n",
    "            top_indices = np.argsort(log_probs[idx])[-10:][::-1]\n",
    "            top_features = [feature_names[i] for i in top_indices]\n",
    "            print(\", \".join(top_features))"
   ]
  },
  {
   "cell_type": "markdown",
   "id": "30a66f0e-2b08-4225-b399-277da1b8c430",
   "metadata": {},
   "source": [
    "# Top 10 Features For Logistic Regression:\n",
    "\n",
    "News\n",
    "\n",
    "Important features: opinion, cnn opinion, newsletterjoin twitter, newsletterjoin, newslettersign, free weekly, weekly newslettersign, newslettersign cnn, opinion cnn, london\n",
    "Indicates focus on opinion pieces, newsletters, and specific mentions of \"cnn opinion\" and \"london.\" in the articles\n",
    "\n",
    "Politics\n",
    "\n",
    "Important features: administration, story update, White House, update addition, democrat, Biden, official, federal, update, department\n",
    "Highlights the use of administrative and political terminology, with frequent mentions of \"Biden,\" \"democrat,\" and \"White House.\" in the articles\n",
    "\n",
    "Sport\n",
    "\n",
    "Important features: football, team, club, player, champion, sport, athlete, league, olympic, cnncomsport news\n",
    "Emphasizes use of sports-related terms, particularly focusing on \"football,\" \"team,\" and \"player.\" in the articles \n",
    "\n",
    "\n"
   ]
  },
  {
   "cell_type": "markdown",
   "id": "a8259685-4247-4d13-aeca-78d3a4a03241",
   "metadata": {},
   "source": [
    "# Top 10 Features For Naive Bayes:\n",
    "\n",
    "News\n",
    "\n",
    "Key features: said, police, people, UK, vaccine, country, government, state, year, report\n",
    "Focuses on general news terms and significant events or entities such as \"police,\" \"vaccine,\" and \"government.\"\n",
    "\n",
    "Politics\n",
    "\n",
    "Key features: Trump, Biden, republican, democrat, president, election, said, house, vote, state\n",
    "Concentrates on political figures and events, prominently featuring \"Trump,\" \"Biden,\" and \"election.\"\n",
    "\n",
    "Sport\n",
    "\n",
    "Key features: game, player, team, league, win, play, club, world, football, sport\n",
    "Similar to Logistic Regression, it highlights sports-related terms with an emphasis on \"game,\" \"player,\" and \"team.\"\n",
    "\n"
   ]
  },
  {
   "cell_type": "markdown",
   "id": "59c01f65-34b4-498c-98a0-dd69674aadb2",
   "metadata": {},
   "source": [
    "# Final Results\n",
    "\n",
    "The Best Model for this task is the Logistic regression model. It Helps to correctly identify words and patterns and classify articles based on Natural Language Processing (NLP).\n",
    "\n",
    "The Logistic regression model has high precision and recall for the \"news\" and \"sport\" categories, as shown by the high number of true positives and low number of false negatives in the matrix. However, the \"politics\" category has a slightly lower recall, indicated by a higher number of articles that are \"politics\" but are incorrectly classified as \"news\" or \"sport.\" This indicates that the model occasionally misses \"politics\" articles, classifying them as \"news\" or \"sport\" instead. \n",
    "\n"
   ]
  },
  {
   "cell_type": "markdown",
   "id": "23a96903-5771-4eb6-8fa6-6d21e6f32402",
   "metadata": {},
   "source": [
    "# Conclusion \n",
    "\n",
    "Logistic Regression and Naive Bayes both models analyze text data to identify important features across different categories og the News Articles.\n",
    "\n",
    "\n",
    "Logistic Regression in news category focuses on opinions and specific entities like \"cnn opinion\" and \"London.\"\n",
    "\n",
    "Naive Bayes in news category captures general terms such as \"police,\" \"vaccine,\" and \"government.\"\n",
    "\n",
    "Both models agree on the importance of political figures like \"Trump\" and \"Biden,\" and sports terms such as \"football,\" \"team,\" and \"player.\"\n",
    "\n"
   ]
  }
 ],
 "metadata": {
  "kernelspec": {
   "display_name": "Python 3 (ipykernel)",
   "language": "python",
   "name": "python3"
  },
  "language_info": {
   "codemirror_mode": {
    "name": "ipython",
    "version": 3
   },
   "file_extension": ".py",
   "mimetype": "text/x-python",
   "name": "python",
   "nbconvert_exporter": "python",
   "pygments_lexer": "ipython3",
   "version": "3.11.7"
  }
 },
 "nbformat": 4,
 "nbformat_minor": 5
}
