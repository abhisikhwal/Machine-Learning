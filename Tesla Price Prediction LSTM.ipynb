{
 "cells": [
  {
   "cell_type": "markdown",
   "id": "7ffb4c67",
   "metadata": {},
   "source": [
    "# Tesla Stock Price Prediction using Keras / Tensorflow and LSTM\n",
    "\n",
    "By  Abhinav Sikhwal (GH1027622),\n"
   ]
  },
  {
   "cell_type": "markdown",
   "id": "6d6dba61",
   "metadata": {},
   "source": [
    "# Business Objective\n",
    "\n",
    "This Deep Learning Pipeline is performed on the Tesla Stock Price Dataset.\n",
    "\n",
    "The Dataset has been retrieved from Yahoo Finance - https://finance.yahoo.com/quote/TSLA/history/?period1=1561803090&period2=1719655882\n",
    "\n",
    "The objective is to conduct a thorough analysis of the Dataset and Design a Machine Learning Model that can understand relationships between the features and make predictions on the stock price with Minimum Mean Squared Error and Maximum R2 Score."
   ]
  },
  {
   "cell_type": "markdown",
   "id": "f4261d18",
   "metadata": {},
   "source": [
    "# Problem Statement\n",
    "\n",
    "The Data contains valuable Information about Different attributes of Tesla Stock with its closing Price for each day. As the Dataset contains very spefic information about the Opening price, volume, closing price and updated daily over a 5 years , it would be ideal to try LSTM netwrok for Time series data to make predictions.\n"
   ]
  },
  {
   "cell_type": "markdown",
   "id": "7afff2d7",
   "metadata": {},
   "source": [
    "# Importing the Necessary Libraries"
   ]
  },
  {
   "cell_type": "code",
   "execution_count": 1326,
   "id": "2c174ff2",
   "metadata": {},
   "outputs": [],
   "source": [
    "import numpy as np\n",
    "import pandas as pd\n",
    "import matplotlib.pyplot as plt\n",
    "from sklearn.preprocessing import MinMaxScaler\n",
    "from sklearn.metrics import mean_squared_error, r2_score\n",
    "from keras.models import Sequential\n",
    "from keras.layers import LSTM, Dense, Dropout\n",
    "from keras.optimizers import Adam\n",
    "from tensorflow.keras.preprocessing.sequence import TimeseriesGenerator"
   ]
  },
  {
   "cell_type": "markdown",
   "id": "4b6ceaf2",
   "metadata": {},
   "source": [
    "# Reading the Dataset"
   ]
  },
  {
   "cell_type": "code",
   "execution_count": 1328,
   "id": "d9391d20",
   "metadata": {},
   "outputs": [],
   "source": [
    "data = pd.read_csv('musk.csv') "
   ]
  },
  {
   "cell_type": "markdown",
   "id": "afa66f95",
   "metadata": {},
   "source": [
    "# Data Exploration"
   ]
  },
  {
   "cell_type": "code",
   "execution_count": 1330,
   "id": "9d16d341",
   "metadata": {},
   "outputs": [
    {
     "data": {
      "text/html": [
       "<div>\n",
       "<style scoped>\n",
       "    .dataframe tbody tr th:only-of-type {\n",
       "        vertical-align: middle;\n",
       "    }\n",
       "\n",
       "    .dataframe tbody tr th {\n",
       "        vertical-align: top;\n",
       "    }\n",
       "\n",
       "    .dataframe thead th {\n",
       "        text-align: right;\n",
       "    }\n",
       "</style>\n",
       "<table border=\"1\" class=\"dataframe\">\n",
       "  <thead>\n",
       "    <tr style=\"text-align: right;\">\n",
       "      <th></th>\n",
       "      <th>Date</th>\n",
       "      <th>Open</th>\n",
       "      <th>High</th>\n",
       "      <th>Low</th>\n",
       "      <th>Close</th>\n",
       "      <th>Adj Close</th>\n",
       "      <th>Volume</th>\n",
       "    </tr>\n",
       "  </thead>\n",
       "  <tbody>\n",
       "    <tr>\n",
       "      <th>0</th>\n",
       "      <td>2019-07-01</td>\n",
       "      <td>15.347333</td>\n",
       "      <td>15.540000</td>\n",
       "      <td>15.085333</td>\n",
       "      <td>15.144667</td>\n",
       "      <td>15.144667</td>\n",
       "      <td>123201000</td>\n",
       "    </tr>\n",
       "    <tr>\n",
       "      <th>1</th>\n",
       "      <td>2019-07-02</td>\n",
       "      <td>15.259333</td>\n",
       "      <td>15.276667</td>\n",
       "      <td>14.814667</td>\n",
       "      <td>14.970000</td>\n",
       "      <td>14.970000</td>\n",
       "      <td>138885000</td>\n",
       "    </tr>\n",
       "    <tr>\n",
       "      <th>2</th>\n",
       "      <td>2019-07-03</td>\n",
       "      <td>15.959333</td>\n",
       "      <td>16.104668</td>\n",
       "      <td>15.634000</td>\n",
       "      <td>15.660000</td>\n",
       "      <td>15.660000</td>\n",
       "      <td>213016500</td>\n",
       "    </tr>\n",
       "    <tr>\n",
       "      <th>3</th>\n",
       "      <td>2019-07-05</td>\n",
       "      <td>15.638000</td>\n",
       "      <td>15.696667</td>\n",
       "      <td>15.386667</td>\n",
       "      <td>15.540000</td>\n",
       "      <td>15.540000</td>\n",
       "      <td>105985500</td>\n",
       "    </tr>\n",
       "    <tr>\n",
       "      <th>4</th>\n",
       "      <td>2019-07-08</td>\n",
       "      <td>15.416000</td>\n",
       "      <td>15.483333</td>\n",
       "      <td>15.244000</td>\n",
       "      <td>15.356000</td>\n",
       "      <td>15.356000</td>\n",
       "      <td>88207500</td>\n",
       "    </tr>\n",
       "  </tbody>\n",
       "</table>\n",
       "</div>"
      ],
      "text/plain": [
       "         Date       Open       High        Low      Close  Adj Close  \\\n",
       "0  2019-07-01  15.347333  15.540000  15.085333  15.144667  15.144667   \n",
       "1  2019-07-02  15.259333  15.276667  14.814667  14.970000  14.970000   \n",
       "2  2019-07-03  15.959333  16.104668  15.634000  15.660000  15.660000   \n",
       "3  2019-07-05  15.638000  15.696667  15.386667  15.540000  15.540000   \n",
       "4  2019-07-08  15.416000  15.483333  15.244000  15.356000  15.356000   \n",
       "\n",
       "      Volume  \n",
       "0  123201000  \n",
       "1  138885000  \n",
       "2  213016500  \n",
       "3  105985500  \n",
       "4   88207500  "
      ]
     },
     "execution_count": 1330,
     "metadata": {},
     "output_type": "execute_result"
    }
   ],
   "source": [
    "data.head()"
   ]
  },
  {
   "cell_type": "code",
   "execution_count": 1331,
   "id": "2a185037",
   "metadata": {},
   "outputs": [
    {
     "data": {
      "text/plain": [
       "(1258, 7)"
      ]
     },
     "execution_count": 1331,
     "metadata": {},
     "output_type": "execute_result"
    }
   ],
   "source": [
    "data.shape"
   ]
  },
  {
   "cell_type": "code",
   "execution_count": 1332,
   "id": "c38a7599",
   "metadata": {},
   "outputs": [
    {
     "name": "stdout",
     "output_type": "stream",
     "text": [
      "<class 'pandas.core.frame.DataFrame'>\n",
      "RangeIndex: 1258 entries, 0 to 1257\n",
      "Data columns (total 7 columns):\n",
      " #   Column     Non-Null Count  Dtype  \n",
      "---  ------     --------------  -----  \n",
      " 0   Date       1258 non-null   object \n",
      " 1   Open       1258 non-null   float64\n",
      " 2   High       1258 non-null   float64\n",
      " 3   Low        1258 non-null   float64\n",
      " 4   Close      1258 non-null   float64\n",
      " 5   Adj Close  1258 non-null   float64\n",
      " 6   Volume     1258 non-null   int64  \n",
      "dtypes: float64(5), int64(1), object(1)\n",
      "memory usage: 68.9+ KB\n"
     ]
    }
   ],
   "source": [
    "data.info()"
   ]
  },
  {
   "cell_type": "code",
   "execution_count": 1333,
   "id": "be14e1d1",
   "metadata": {},
   "outputs": [
    {
     "data": {
      "text/html": [
       "<div>\n",
       "<style scoped>\n",
       "    .dataframe tbody tr th:only-of-type {\n",
       "        vertical-align: middle;\n",
       "    }\n",
       "\n",
       "    .dataframe tbody tr th {\n",
       "        vertical-align: top;\n",
       "    }\n",
       "\n",
       "    .dataframe thead th {\n",
       "        text-align: right;\n",
       "    }\n",
       "</style>\n",
       "<table border=\"1\" class=\"dataframe\">\n",
       "  <thead>\n",
       "    <tr style=\"text-align: right;\">\n",
       "      <th></th>\n",
       "      <th>Open</th>\n",
       "      <th>High</th>\n",
       "      <th>Low</th>\n",
       "      <th>Close</th>\n",
       "      <th>Adj Close</th>\n",
       "      <th>Volume</th>\n",
       "    </tr>\n",
       "  </thead>\n",
       "  <tbody>\n",
       "    <tr>\n",
       "      <th>count</th>\n",
       "      <td>1258.000000</td>\n",
       "      <td>1258.000000</td>\n",
       "      <td>1258.000000</td>\n",
       "      <td>1258.000000</td>\n",
       "      <td>1258.000000</td>\n",
       "      <td>1.258000e+03</td>\n",
       "    </tr>\n",
       "    <tr>\n",
       "      <th>mean</th>\n",
       "      <td>187.423552</td>\n",
       "      <td>191.590030</td>\n",
       "      <td>182.944866</td>\n",
       "      <td>187.360654</td>\n",
       "      <td>187.360654</td>\n",
       "      <td>1.285856e+08</td>\n",
       "    </tr>\n",
       "    <tr>\n",
       "      <th>std</th>\n",
       "      <td>96.098155</td>\n",
       "      <td>98.108000</td>\n",
       "      <td>93.782909</td>\n",
       "      <td>95.930817</td>\n",
       "      <td>95.930817</td>\n",
       "      <td>8.320808e+07</td>\n",
       "    </tr>\n",
       "    <tr>\n",
       "      <th>min</th>\n",
       "      <td>14.240000</td>\n",
       "      <td>14.334667</td>\n",
       "      <td>14.066667</td>\n",
       "      <td>14.093333</td>\n",
       "      <td>14.093333</td>\n",
       "      <td>2.940180e+07</td>\n",
       "    </tr>\n",
       "    <tr>\n",
       "      <th>25%</th>\n",
       "      <td>132.312000</td>\n",
       "      <td>136.340000</td>\n",
       "      <td>126.530003</td>\n",
       "      <td>133.467335</td>\n",
       "      <td>133.467335</td>\n",
       "      <td>7.783598e+07</td>\n",
       "    </tr>\n",
       "    <tr>\n",
       "      <th>50%</th>\n",
       "      <td>203.660004</td>\n",
       "      <td>208.220001</td>\n",
       "      <td>198.510002</td>\n",
       "      <td>203.351670</td>\n",
       "      <td>203.351670</td>\n",
       "      <td>1.045224e+08</td>\n",
       "    </tr>\n",
       "    <tr>\n",
       "      <th>75%</th>\n",
       "      <td>251.392498</td>\n",
       "      <td>256.570000</td>\n",
       "      <td>246.292503</td>\n",
       "      <td>251.844997</td>\n",
       "      <td>251.844997</td>\n",
       "      <td>1.481018e+08</td>\n",
       "    </tr>\n",
       "    <tr>\n",
       "      <th>max</th>\n",
       "      <td>411.470001</td>\n",
       "      <td>414.496674</td>\n",
       "      <td>405.666656</td>\n",
       "      <td>409.970001</td>\n",
       "      <td>409.970001</td>\n",
       "      <td>9.140820e+08</td>\n",
       "    </tr>\n",
       "  </tbody>\n",
       "</table>\n",
       "</div>"
      ],
      "text/plain": [
       "              Open         High          Low        Close    Adj Close  \\\n",
       "count  1258.000000  1258.000000  1258.000000  1258.000000  1258.000000   \n",
       "mean    187.423552   191.590030   182.944866   187.360654   187.360654   \n",
       "std      96.098155    98.108000    93.782909    95.930817    95.930817   \n",
       "min      14.240000    14.334667    14.066667    14.093333    14.093333   \n",
       "25%     132.312000   136.340000   126.530003   133.467335   133.467335   \n",
       "50%     203.660004   208.220001   198.510002   203.351670   203.351670   \n",
       "75%     251.392498   256.570000   246.292503   251.844997   251.844997   \n",
       "max     411.470001   414.496674   405.666656   409.970001   409.970001   \n",
       "\n",
       "             Volume  \n",
       "count  1.258000e+03  \n",
       "mean   1.285856e+08  \n",
       "std    8.320808e+07  \n",
       "min    2.940180e+07  \n",
       "25%    7.783598e+07  \n",
       "50%    1.045224e+08  \n",
       "75%    1.481018e+08  \n",
       "max    9.140820e+08  "
      ]
     },
     "execution_count": 1333,
     "metadata": {},
     "output_type": "execute_result"
    }
   ],
   "source": [
    "data.describe()"
   ]
  },
  {
   "cell_type": "code",
   "execution_count": 1334,
   "id": "d325c6be",
   "metadata": {},
   "outputs": [
    {
     "data": {
      "text/plain": [
       "Date         0\n",
       "Open         0\n",
       "High         0\n",
       "Low          0\n",
       "Close        0\n",
       "Adj Close    0\n",
       "Volume       0\n",
       "dtype: int64"
      ]
     },
     "execution_count": 1334,
     "metadata": {},
     "output_type": "execute_result"
    }
   ],
   "source": [
    "data.isna().sum()"
   ]
  },
  {
   "cell_type": "markdown",
   "id": "2ef2769c",
   "metadata": {},
   "source": [
    "# Dataset Information\n",
    "\n",
    "This Dataset Contains Daily prices of the Tesla Stock over a period of 5 years. Each Row contains the Date, The Opening Price, the daily Low, The Daily High, The Closing price, the volume and the adjusted Closing price. \n",
    "\n",
    "The Minimum closing price of the stock is 14 dollars and the Maximum price is 409 dollars. The Average stock price over 5 years is 187 Dollars. \n",
    "\n",
    "The dataset contains no null values. \n",
    "\n",
    "Lets begin with Preprocessing the dataset. \n",
    "\n"
   ]
  },
  {
   "cell_type": "markdown",
   "id": "c3a24a96",
   "metadata": {},
   "source": [
    "# Data Preprocessing\n",
    "\n",
    "For the purpose of Processing and machine learning, the date Column will be transformed to date time format using pandas. \n",
    "\n",
    "Then we will select the relevant columns (In this case all of them) and scale the data between 0, 1 as required for machine learning. "
   ]
  },
  {
   "cell_type": "code",
   "execution_count": 1337,
   "id": "c2595d5b",
   "metadata": {},
   "outputs": [],
   "source": [
    "# Converting the date column to datetime format for processing\n",
    "data['Date'] = pd.to_datetime(data['Date'])\n",
    "data.set_index('Date', inplace=True)"
   ]
  },
  {
   "cell_type": "code",
   "execution_count": 1338,
   "id": "082b4ad3",
   "metadata": {},
   "outputs": [],
   "source": [
    "# Selecting the relevant columns for the prediction\n",
    "data = data[['Open', 'High', 'Low', 'Close', 'Adj Close', 'Volume']]"
   ]
  },
  {
   "cell_type": "code",
   "execution_count": 1339,
   "id": "df351bca",
   "metadata": {},
   "outputs": [],
   "source": [
    "# Normalizing the data for machine learning\n",
    "scaler = MinMaxScaler(feature_range=(0, 1))\n",
    "scaled_data = scaler.fit_transform(data)"
   ]
  },
  {
   "cell_type": "markdown",
   "id": "3bb1d82e",
   "metadata": {},
   "source": [
    "# Splitting the Data\n",
    "\n",
    "The dataset will be split using 80% for training and 20% for testing. "
   ]
  },
  {
   "cell_type": "code",
   "execution_count": 1341,
   "id": "82e82be1",
   "metadata": {},
   "outputs": [],
   "source": [
    "# Create training and testing datasets with a 80:20 ratio\n",
    "train_size = int(len(scaled_data) * 0.8)\n",
    "train_data = scaled_data[:train_size]\n",
    "test_data = scaled_data[train_size:]"
   ]
  },
  {
   "cell_type": "markdown",
   "id": "b5b551f9",
   "metadata": {},
   "source": [
    "# Creating Sequences from the Data\n",
    "\n",
    "To create sequences from the data and adding the previous days price as the target for the present day we will use the Timeseries generator function in Tensorflow. This will automatically build the sequence as desired by machine learning. "
   ]
  },
  {
   "cell_type": "code",
   "execution_count": 1343,
   "id": "d0575b8c",
   "metadata": {},
   "outputs": [],
   "source": [
    "# Specifying the time step and batch size to be used to create sequences\n",
    "time_step = 10\n",
    "batch_size = 64"
   ]
  },
  {
   "cell_type": "code",
   "execution_count": 1344,
   "id": "49b556c1",
   "metadata": {},
   "outputs": [],
   "source": [
    "# Use TimeseriesGenerator to create sequences of the stock prices\n",
    "train_generator = TimeseriesGenerator(train_data, train_data[:, 3], length=time_step, batch_size=batch_size)\n",
    "test_generator = TimeseriesGenerator(test_data, test_data[:, 3], length=time_step, batch_size=batch_size)"
   ]
  },
  {
   "cell_type": "markdown",
   "id": "c5ce8f12",
   "metadata": {},
   "source": [
    "# Hyperparameter Tunings\n",
    "\n",
    "The Hyperparameters are specified below. However, many more combinations will be tried to achieve the best results. "
   ]
  },
  {
   "cell_type": "code",
   "execution_count": 1346,
   "id": "51729ebe",
   "metadata": {},
   "outputs": [],
   "source": [
    "# Specifying the Hyperparameters of the Model\n",
    "lstm_units = 100\n",
    "dropout_rate = 0.1\n",
    "epochs = 30\n",
    "learning_rate = 0.001"
   ]
  },
  {
   "cell_type": "markdown",
   "id": "8bb42b67",
   "metadata": {},
   "source": [
    "# Model Building\n",
    "\n",
    "The Recurrent Neural Network LSTM model will be build using different combinations of LSTM layers and hyperparameters. "
   ]
  },
  {
   "cell_type": "code",
   "execution_count": 1348,
   "id": "b0f9efe7",
   "metadata": {},
   "outputs": [
    {
     "name": "stderr",
     "output_type": "stream",
     "text": [
      "/opt/anaconda3/lib/python3.11/site-packages/keras/src/layers/rnn/rnn.py:204: UserWarning: Do not pass an `input_shape`/`input_dim` argument to a layer. When using Sequential models, prefer using an `Input(shape)` object as the first layer in the model instead.\n",
      "  super().__init__(**kwargs)\n"
     ]
    }
   ],
   "source": [
    "# Defining the RNN LSTM model\n",
    "model = Sequential()\n",
    "model.add(LSTM(units=lstm_units, return_sequences=True, input_shape=(time_step, train_data.shape[1])))\n",
    "model.add(Dropout(dropout_rate))\n",
    "model.add(LSTM(units=lstm_units, return_sequences=True))\n",
    "model.add(Dropout(dropout_rate))\n",
    "model.add(LSTM(units=lstm_units, return_sequences=True))\n",
    "model.add(Dropout(dropout_rate))\n",
    "model.add(LSTM(units=50, return_sequences=True))\n",
    "model.add(Dropout(dropout_rate))\n",
    "model.add(Dense(25))\n",
    "model.add(Dense(1))"
   ]
  },
  {
   "cell_type": "code",
   "execution_count": 1349,
   "id": "48c77797",
   "metadata": {},
   "outputs": [],
   "source": [
    "# Compiling the model with Adam optimizer\n",
    "adam = Adam(learning_rate=learning_rate)\n",
    "model.compile(optimizer=adam, loss='mean_squared_error')"
   ]
  },
  {
   "cell_type": "code",
   "execution_count": 1350,
   "id": "c36ce087",
   "metadata": {},
   "outputs": [
    {
     "data": {
      "text/html": [
       "<pre style=\"white-space:pre;overflow-x:auto;line-height:normal;font-family:Menlo,'DejaVu Sans Mono',consolas,'Courier New',monospace\"><span style=\"font-weight: bold\">Model: \"sequential_14\"</span>\n",
       "</pre>\n"
      ],
      "text/plain": [
       "\u001b[1mModel: \"sequential_14\"\u001b[0m\n"
      ]
     },
     "metadata": {},
     "output_type": "display_data"
    },
    {
     "data": {
      "text/html": [
       "<pre style=\"white-space:pre;overflow-x:auto;line-height:normal;font-family:Menlo,'DejaVu Sans Mono',consolas,'Courier New',monospace\">┏━━━━━━━━━━━━━━━━━━━━━━━━━━━━━━━━━┳━━━━━━━━━━━━━━━━━━━━━━━━┳━━━━━━━━━━━━━━━┓\n",
       "┃<span style=\"font-weight: bold\"> Layer (type)                    </span>┃<span style=\"font-weight: bold\"> Output Shape           </span>┃<span style=\"font-weight: bold\">       Param # </span>┃\n",
       "┡━━━━━━━━━━━━━━━━━━━━━━━━━━━━━━━━━╇━━━━━━━━━━━━━━━━━━━━━━━━╇━━━━━━━━━━━━━━━┩\n",
       "│ lstm_54 (<span style=\"color: #0087ff; text-decoration-color: #0087ff\">LSTM</span>)                  │ (<span style=\"color: #00d7ff; text-decoration-color: #00d7ff\">None</span>, <span style=\"color: #00af00; text-decoration-color: #00af00\">10</span>, <span style=\"color: #00af00; text-decoration-color: #00af00\">100</span>)        │        <span style=\"color: #00af00; text-decoration-color: #00af00\">42,800</span> │\n",
       "├─────────────────────────────────┼────────────────────────┼───────────────┤\n",
       "│ dropout_54 (<span style=\"color: #0087ff; text-decoration-color: #0087ff\">Dropout</span>)            │ (<span style=\"color: #00d7ff; text-decoration-color: #00d7ff\">None</span>, <span style=\"color: #00af00; text-decoration-color: #00af00\">10</span>, <span style=\"color: #00af00; text-decoration-color: #00af00\">100</span>)        │             <span style=\"color: #00af00; text-decoration-color: #00af00\">0</span> │\n",
       "├─────────────────────────────────┼────────────────────────┼───────────────┤\n",
       "│ lstm_55 (<span style=\"color: #0087ff; text-decoration-color: #0087ff\">LSTM</span>)                  │ (<span style=\"color: #00d7ff; text-decoration-color: #00d7ff\">None</span>, <span style=\"color: #00af00; text-decoration-color: #00af00\">10</span>, <span style=\"color: #00af00; text-decoration-color: #00af00\">100</span>)        │        <span style=\"color: #00af00; text-decoration-color: #00af00\">80,400</span> │\n",
       "├─────────────────────────────────┼────────────────────────┼───────────────┤\n",
       "│ dropout_55 (<span style=\"color: #0087ff; text-decoration-color: #0087ff\">Dropout</span>)            │ (<span style=\"color: #00d7ff; text-decoration-color: #00d7ff\">None</span>, <span style=\"color: #00af00; text-decoration-color: #00af00\">10</span>, <span style=\"color: #00af00; text-decoration-color: #00af00\">100</span>)        │             <span style=\"color: #00af00; text-decoration-color: #00af00\">0</span> │\n",
       "├─────────────────────────────────┼────────────────────────┼───────────────┤\n",
       "│ lstm_56 (<span style=\"color: #0087ff; text-decoration-color: #0087ff\">LSTM</span>)                  │ (<span style=\"color: #00d7ff; text-decoration-color: #00d7ff\">None</span>, <span style=\"color: #00af00; text-decoration-color: #00af00\">10</span>, <span style=\"color: #00af00; text-decoration-color: #00af00\">100</span>)        │        <span style=\"color: #00af00; text-decoration-color: #00af00\">80,400</span> │\n",
       "├─────────────────────────────────┼────────────────────────┼───────────────┤\n",
       "│ dropout_56 (<span style=\"color: #0087ff; text-decoration-color: #0087ff\">Dropout</span>)            │ (<span style=\"color: #00d7ff; text-decoration-color: #00d7ff\">None</span>, <span style=\"color: #00af00; text-decoration-color: #00af00\">10</span>, <span style=\"color: #00af00; text-decoration-color: #00af00\">100</span>)        │             <span style=\"color: #00af00; text-decoration-color: #00af00\">0</span> │\n",
       "├─────────────────────────────────┼────────────────────────┼───────────────┤\n",
       "│ lstm_57 (<span style=\"color: #0087ff; text-decoration-color: #0087ff\">LSTM</span>)                  │ (<span style=\"color: #00d7ff; text-decoration-color: #00d7ff\">None</span>, <span style=\"color: #00af00; text-decoration-color: #00af00\">10</span>, <span style=\"color: #00af00; text-decoration-color: #00af00\">50</span>)         │        <span style=\"color: #00af00; text-decoration-color: #00af00\">30,200</span> │\n",
       "├─────────────────────────────────┼────────────────────────┼───────────────┤\n",
       "│ dropout_57 (<span style=\"color: #0087ff; text-decoration-color: #0087ff\">Dropout</span>)            │ (<span style=\"color: #00d7ff; text-decoration-color: #00d7ff\">None</span>, <span style=\"color: #00af00; text-decoration-color: #00af00\">10</span>, <span style=\"color: #00af00; text-decoration-color: #00af00\">50</span>)         │             <span style=\"color: #00af00; text-decoration-color: #00af00\">0</span> │\n",
       "├─────────────────────────────────┼────────────────────────┼───────────────┤\n",
       "│ dense_28 (<span style=\"color: #0087ff; text-decoration-color: #0087ff\">Dense</span>)                │ (<span style=\"color: #00d7ff; text-decoration-color: #00d7ff\">None</span>, <span style=\"color: #00af00; text-decoration-color: #00af00\">10</span>, <span style=\"color: #00af00; text-decoration-color: #00af00\">25</span>)         │         <span style=\"color: #00af00; text-decoration-color: #00af00\">1,275</span> │\n",
       "├─────────────────────────────────┼────────────────────────┼───────────────┤\n",
       "│ dense_29 (<span style=\"color: #0087ff; text-decoration-color: #0087ff\">Dense</span>)                │ (<span style=\"color: #00d7ff; text-decoration-color: #00d7ff\">None</span>, <span style=\"color: #00af00; text-decoration-color: #00af00\">10</span>, <span style=\"color: #00af00; text-decoration-color: #00af00\">1</span>)          │            <span style=\"color: #00af00; text-decoration-color: #00af00\">26</span> │\n",
       "└─────────────────────────────────┴────────────────────────┴───────────────┘\n",
       "</pre>\n"
      ],
      "text/plain": [
       "┏━━━━━━━━━━━━━━━━━━━━━━━━━━━━━━━━━┳━━━━━━━━━━━━━━━━━━━━━━━━┳━━━━━━━━━━━━━━━┓\n",
       "┃\u001b[1m \u001b[0m\u001b[1mLayer (type)                   \u001b[0m\u001b[1m \u001b[0m┃\u001b[1m \u001b[0m\u001b[1mOutput Shape          \u001b[0m\u001b[1m \u001b[0m┃\u001b[1m \u001b[0m\u001b[1m      Param #\u001b[0m\u001b[1m \u001b[0m┃\n",
       "┡━━━━━━━━━━━━━━━━━━━━━━━━━━━━━━━━━╇━━━━━━━━━━━━━━━━━━━━━━━━╇━━━━━━━━━━━━━━━┩\n",
       "│ lstm_54 (\u001b[38;5;33mLSTM\u001b[0m)                  │ (\u001b[38;5;45mNone\u001b[0m, \u001b[38;5;34m10\u001b[0m, \u001b[38;5;34m100\u001b[0m)        │        \u001b[38;5;34m42,800\u001b[0m │\n",
       "├─────────────────────────────────┼────────────────────────┼───────────────┤\n",
       "│ dropout_54 (\u001b[38;5;33mDropout\u001b[0m)            │ (\u001b[38;5;45mNone\u001b[0m, \u001b[38;5;34m10\u001b[0m, \u001b[38;5;34m100\u001b[0m)        │             \u001b[38;5;34m0\u001b[0m │\n",
       "├─────────────────────────────────┼────────────────────────┼───────────────┤\n",
       "│ lstm_55 (\u001b[38;5;33mLSTM\u001b[0m)                  │ (\u001b[38;5;45mNone\u001b[0m, \u001b[38;5;34m10\u001b[0m, \u001b[38;5;34m100\u001b[0m)        │        \u001b[38;5;34m80,400\u001b[0m │\n",
       "├─────────────────────────────────┼────────────────────────┼───────────────┤\n",
       "│ dropout_55 (\u001b[38;5;33mDropout\u001b[0m)            │ (\u001b[38;5;45mNone\u001b[0m, \u001b[38;5;34m10\u001b[0m, \u001b[38;5;34m100\u001b[0m)        │             \u001b[38;5;34m0\u001b[0m │\n",
       "├─────────────────────────────────┼────────────────────────┼───────────────┤\n",
       "│ lstm_56 (\u001b[38;5;33mLSTM\u001b[0m)                  │ (\u001b[38;5;45mNone\u001b[0m, \u001b[38;5;34m10\u001b[0m, \u001b[38;5;34m100\u001b[0m)        │        \u001b[38;5;34m80,400\u001b[0m │\n",
       "├─────────────────────────────────┼────────────────────────┼───────────────┤\n",
       "│ dropout_56 (\u001b[38;5;33mDropout\u001b[0m)            │ (\u001b[38;5;45mNone\u001b[0m, \u001b[38;5;34m10\u001b[0m, \u001b[38;5;34m100\u001b[0m)        │             \u001b[38;5;34m0\u001b[0m │\n",
       "├─────────────────────────────────┼────────────────────────┼───────────────┤\n",
       "│ lstm_57 (\u001b[38;5;33mLSTM\u001b[0m)                  │ (\u001b[38;5;45mNone\u001b[0m, \u001b[38;5;34m10\u001b[0m, \u001b[38;5;34m50\u001b[0m)         │        \u001b[38;5;34m30,200\u001b[0m │\n",
       "├─────────────────────────────────┼────────────────────────┼───────────────┤\n",
       "│ dropout_57 (\u001b[38;5;33mDropout\u001b[0m)            │ (\u001b[38;5;45mNone\u001b[0m, \u001b[38;5;34m10\u001b[0m, \u001b[38;5;34m50\u001b[0m)         │             \u001b[38;5;34m0\u001b[0m │\n",
       "├─────────────────────────────────┼────────────────────────┼───────────────┤\n",
       "│ dense_28 (\u001b[38;5;33mDense\u001b[0m)                │ (\u001b[38;5;45mNone\u001b[0m, \u001b[38;5;34m10\u001b[0m, \u001b[38;5;34m25\u001b[0m)         │         \u001b[38;5;34m1,275\u001b[0m │\n",
       "├─────────────────────────────────┼────────────────────────┼───────────────┤\n",
       "│ dense_29 (\u001b[38;5;33mDense\u001b[0m)                │ (\u001b[38;5;45mNone\u001b[0m, \u001b[38;5;34m10\u001b[0m, \u001b[38;5;34m1\u001b[0m)          │            \u001b[38;5;34m26\u001b[0m │\n",
       "└─────────────────────────────────┴────────────────────────┴───────────────┘\n"
      ]
     },
     "metadata": {},
     "output_type": "display_data"
    },
    {
     "data": {
      "text/html": [
       "<pre style=\"white-space:pre;overflow-x:auto;line-height:normal;font-family:Menlo,'DejaVu Sans Mono',consolas,'Courier New',monospace\"><span style=\"font-weight: bold\"> Total params: </span><span style=\"color: #00af00; text-decoration-color: #00af00\">235,101</span> (918.36 KB)\n",
       "</pre>\n"
      ],
      "text/plain": [
       "\u001b[1m Total params: \u001b[0m\u001b[38;5;34m235,101\u001b[0m (918.36 KB)\n"
      ]
     },
     "metadata": {},
     "output_type": "display_data"
    },
    {
     "data": {
      "text/html": [
       "<pre style=\"white-space:pre;overflow-x:auto;line-height:normal;font-family:Menlo,'DejaVu Sans Mono',consolas,'Courier New',monospace\"><span style=\"font-weight: bold\"> Trainable params: </span><span style=\"color: #00af00; text-decoration-color: #00af00\">235,101</span> (918.36 KB)\n",
       "</pre>\n"
      ],
      "text/plain": [
       "\u001b[1m Trainable params: \u001b[0m\u001b[38;5;34m235,101\u001b[0m (918.36 KB)\n"
      ]
     },
     "metadata": {},
     "output_type": "display_data"
    },
    {
     "data": {
      "text/html": [
       "<pre style=\"white-space:pre;overflow-x:auto;line-height:normal;font-family:Menlo,'DejaVu Sans Mono',consolas,'Courier New',monospace\"><span style=\"font-weight: bold\"> Non-trainable params: </span><span style=\"color: #00af00; text-decoration-color: #00af00\">0</span> (0.00 B)\n",
       "</pre>\n"
      ],
      "text/plain": [
       "\u001b[1m Non-trainable params: \u001b[0m\u001b[38;5;34m0\u001b[0m (0.00 B)\n"
      ]
     },
     "metadata": {},
     "output_type": "display_data"
    }
   ],
   "source": [
    "# Printing the model summary\n",
    "model.summary()"
   ]
  },
  {
   "cell_type": "markdown",
   "id": "16794c92-c6a3-474a-ac7b-77fd4dbba64f",
   "metadata": {},
   "source": [
    "# Model Training\n",
    "\n",
    "The Model Summary indicates that there are many more parameters that could be trained to achieve the best result. "
   ]
  },
  {
   "cell_type": "code",
   "execution_count": 1351,
   "id": "2a8b9f3d",
   "metadata": {},
   "outputs": [
    {
     "name": "stdout",
     "output_type": "stream",
     "text": [
      "Epoch 1/30\n",
      "\u001b[1m12/16\u001b[0m \u001b[32m━━━━━━━━━━━━━━━\u001b[0m\u001b[37m━━━━━\u001b[0m \u001b[1m0s\u001b[0m 14ms/step - loss: 0.1923"
     ]
    },
    {
     "name": "stderr",
     "output_type": "stream",
     "text": [
      "/opt/anaconda3/lib/python3.11/site-packages/keras/src/trainers/data_adapters/py_dataset_adapter.py:121: UserWarning: Your `PyDataset` class should call `super().__init__(**kwargs)` in its constructor. `**kwargs` can include `workers`, `use_multiprocessing`, `max_queue_size`. Do not pass these arguments to `fit()`, as they will be ignored.\n",
      "  self._warn_if_super_not_called()\n"
     ]
    },
    {
     "name": "stdout",
     "output_type": "stream",
     "text": [
      "\u001b[1m16/16\u001b[0m \u001b[32m━━━━━━━━━━━━━━━━━━━━\u001b[0m\u001b[37m\u001b[0m \u001b[1m2s\u001b[0m 29ms/step - loss: 0.1710 - val_loss: 0.0701\n",
      "Epoch 2/30\n",
      "\u001b[1m16/16\u001b[0m \u001b[32m━━━━━━━━━━━━━━━━━━━━\u001b[0m\u001b[37m\u001b[0m \u001b[1m0s\u001b[0m 21ms/step - loss: 0.1117 - val_loss: 0.0352\n",
      "Epoch 3/30\n",
      "\u001b[1m16/16\u001b[0m \u001b[32m━━━━━━━━━━━━━━━━━━━━\u001b[0m\u001b[37m\u001b[0m \u001b[1m0s\u001b[0m 21ms/step - loss: 0.0577 - val_loss: 0.0403\n",
      "Epoch 4/30\n",
      "\u001b[1m16/16\u001b[0m \u001b[32m━━━━━━━━━━━━━━━━━━━━\u001b[0m\u001b[37m\u001b[0m \u001b[1m0s\u001b[0m 21ms/step - loss: 0.0428 - val_loss: 0.0178\n",
      "Epoch 5/30\n",
      "\u001b[1m16/16\u001b[0m \u001b[32m━━━━━━━━━━━━━━━━━━━━\u001b[0m\u001b[37m\u001b[0m \u001b[1m0s\u001b[0m 21ms/step - loss: 0.0329 - val_loss: 0.0138\n",
      "Epoch 6/30\n",
      "\u001b[1m16/16\u001b[0m \u001b[32m━━━━━━━━━━━━━━━━━━━━\u001b[0m\u001b[37m\u001b[0m \u001b[1m0s\u001b[0m 22ms/step - loss: 0.0410 - val_loss: 0.0108\n",
      "Epoch 7/30\n",
      "\u001b[1m16/16\u001b[0m \u001b[32m━━━━━━━━━━━━━━━━━━━━\u001b[0m\u001b[37m\u001b[0m \u001b[1m0s\u001b[0m 22ms/step - loss: 0.0328 - val_loss: 0.0143\n",
      "Epoch 8/30\n",
      "\u001b[1m16/16\u001b[0m \u001b[32m━━━━━━━━━━━━━━━━━━━━\u001b[0m\u001b[37m\u001b[0m \u001b[1m0s\u001b[0m 22ms/step - loss: 0.0228 - val_loss: 0.0093\n",
      "Epoch 9/30\n",
      "\u001b[1m16/16\u001b[0m \u001b[32m━━━━━━━━━━━━━━━━━━━━\u001b[0m\u001b[37m\u001b[0m \u001b[1m0s\u001b[0m 23ms/step - loss: 0.0220 - val_loss: 0.0099\n",
      "Epoch 10/30\n",
      "\u001b[1m16/16\u001b[0m \u001b[32m━━━━━━━━━━━━━━━━━━━━\u001b[0m\u001b[37m\u001b[0m \u001b[1m0s\u001b[0m 22ms/step - loss: 0.0253 - val_loss: 0.0077\n",
      "Epoch 11/30\n",
      "\u001b[1m16/16\u001b[0m \u001b[32m━━━━━━━━━━━━━━━━━━━━\u001b[0m\u001b[37m\u001b[0m \u001b[1m0s\u001b[0m 23ms/step - loss: 0.0203 - val_loss: 0.0068\n",
      "Epoch 12/30\n",
      "\u001b[1m16/16\u001b[0m \u001b[32m━━━━━━━━━━━━━━━━━━━━\u001b[0m\u001b[37m\u001b[0m \u001b[1m0s\u001b[0m 22ms/step - loss: 0.0183 - val_loss: 0.0070\n",
      "Epoch 13/30\n",
      "\u001b[1m16/16\u001b[0m \u001b[32m━━━━━━━━━━━━━━━━━━━━\u001b[0m\u001b[37m\u001b[0m \u001b[1m0s\u001b[0m 22ms/step - loss: 0.0188 - val_loss: 0.0057\n",
      "Epoch 14/30\n",
      "\u001b[1m16/16\u001b[0m \u001b[32m━━━━━━━━━━━━━━━━━━━━\u001b[0m\u001b[37m\u001b[0m \u001b[1m0s\u001b[0m 20ms/step - loss: 0.0198 - val_loss: 0.0071\n",
      "Epoch 15/30\n",
      "\u001b[1m16/16\u001b[0m \u001b[32m━━━━━━━━━━━━━━━━━━━━\u001b[0m\u001b[37m\u001b[0m \u001b[1m0s\u001b[0m 22ms/step - loss: 0.0165 - val_loss: 0.0051\n",
      "Epoch 16/30\n",
      "\u001b[1m16/16\u001b[0m \u001b[32m━━━━━━━━━━━━━━━━━━━━\u001b[0m\u001b[37m\u001b[0m \u001b[1m0s\u001b[0m 22ms/step - loss: 0.0182 - val_loss: 0.0060\n",
      "Epoch 17/30\n",
      "\u001b[1m16/16\u001b[0m \u001b[32m━━━━━━━━━━━━━━━━━━━━\u001b[0m\u001b[37m\u001b[0m \u001b[1m0s\u001b[0m 22ms/step - loss: 0.0157 - val_loss: 0.0044\n",
      "Epoch 18/30\n",
      "\u001b[1m16/16\u001b[0m \u001b[32m━━━━━━━━━━━━━━━━━━━━\u001b[0m\u001b[37m\u001b[0m \u001b[1m0s\u001b[0m 22ms/step - loss: 0.0129 - val_loss: 0.0049\n",
      "Epoch 19/30\n",
      "\u001b[1m16/16\u001b[0m \u001b[32m━━━━━━━━━━━━━━━━━━━━\u001b[0m\u001b[37m\u001b[0m \u001b[1m0s\u001b[0m 22ms/step - loss: 0.0125 - val_loss: 0.0041\n",
      "Epoch 20/30\n",
      "\u001b[1m16/16\u001b[0m \u001b[32m━━━━━━━━━━━━━━━━━━━━\u001b[0m\u001b[37m\u001b[0m \u001b[1m0s\u001b[0m 23ms/step - loss: 0.0127 - val_loss: 0.0045\n",
      "Epoch 21/30\n",
      "\u001b[1m16/16\u001b[0m \u001b[32m━━━━━━━━━━━━━━━━━━━━\u001b[0m\u001b[37m\u001b[0m \u001b[1m0s\u001b[0m 23ms/step - loss: 0.0126 - val_loss: 0.0060\n",
      "Epoch 22/30\n",
      "\u001b[1m16/16\u001b[0m \u001b[32m━━━━━━━━━━━━━━━━━━━━\u001b[0m\u001b[37m\u001b[0m \u001b[1m0s\u001b[0m 23ms/step - loss: 0.0126 - val_loss: 0.0036\n",
      "Epoch 23/30\n",
      "\u001b[1m16/16\u001b[0m \u001b[32m━━━━━━━━━━━━━━━━━━━━\u001b[0m\u001b[37m\u001b[0m \u001b[1m0s\u001b[0m 22ms/step - loss: 0.0137 - val_loss: 0.0050\n",
      "Epoch 24/30\n",
      "\u001b[1m16/16\u001b[0m \u001b[32m━━━━━━━━━━━━━━━━━━━━\u001b[0m\u001b[37m\u001b[0m \u001b[1m0s\u001b[0m 23ms/step - loss: 0.0136 - val_loss: 0.0043\n",
      "Epoch 25/30\n",
      "\u001b[1m16/16\u001b[0m \u001b[32m━━━━━━━━━━━━━━━━━━━━\u001b[0m\u001b[37m\u001b[0m \u001b[1m0s\u001b[0m 23ms/step - loss: 0.0112 - val_loss: 0.0035\n",
      "Epoch 26/30\n",
      "\u001b[1m16/16\u001b[0m \u001b[32m━━━━━━━━━━━━━━━━━━━━\u001b[0m\u001b[37m\u001b[0m \u001b[1m0s\u001b[0m 23ms/step - loss: 0.0110 - val_loss: 0.0040\n",
      "Epoch 27/30\n",
      "\u001b[1m16/16\u001b[0m \u001b[32m━━━━━━━━━━━━━━━━━━━━\u001b[0m\u001b[37m\u001b[0m \u001b[1m0s\u001b[0m 23ms/step - loss: 0.0109 - val_loss: 0.0032\n",
      "Epoch 28/30\n",
      "\u001b[1m16/16\u001b[0m \u001b[32m━━━━━━━━━━━━━━━━━━━━\u001b[0m\u001b[37m\u001b[0m \u001b[1m0s\u001b[0m 23ms/step - loss: 0.0091 - val_loss: 0.0039\n",
      "Epoch 29/30\n",
      "\u001b[1m16/16\u001b[0m \u001b[32m━━━━━━━━━━━━━━━━━━━━\u001b[0m\u001b[37m\u001b[0m \u001b[1m0s\u001b[0m 23ms/step - loss: 0.0100 - val_loss: 0.0046\n",
      "Epoch 30/30\n",
      "\u001b[1m16/16\u001b[0m \u001b[32m━━━━━━━━━━━━━━━━━━━━\u001b[0m\u001b[37m\u001b[0m \u001b[1m0s\u001b[0m 23ms/step - loss: 0.0126 - val_loss: 0.0029\n"
     ]
    }
   ],
   "source": [
    "# Training the LSTM model\n",
    "history = model.fit(train_generator, epochs=epochs, validation_data=test_generator)"
   ]
  },
  {
   "cell_type": "code",
   "execution_count": 1352,
   "id": "64903f97",
   "metadata": {},
   "outputs": [
    {
     "name": "stdout",
     "output_type": "stream",
     "text": [
      "Validation Loss: 0.0028869633097201586\n"
     ]
    }
   ],
   "source": [
    "# Printing the validation loss\n",
    "print(f\"Validation Loss: {history.history['val_loss'][-1]}\")"
   ]
  },
  {
   "cell_type": "code",
   "execution_count": 1353,
   "id": "2028b853",
   "metadata": {},
   "outputs": [
    {
     "data": {
      "image/png": "[encoded data removed]",
      "text/plain": [
       "<Figure size 1200x600 with 1 Axes>"
      ]
     },
     "metadata": {},
     "output_type": "display_data"
    }
   ],
   "source": [
    "# Plotting the training and validation loss\n",
    "plt.figure(figsize=(12, 6))\n",
    "plt.plot(history.history['loss'], label='Training Loss')\n",
    "plt.plot(history.history['val_loss'], label='Validation Loss')\n",
    "plt.title('Training and Validation Loss')\n",
    "plt.xlabel('Epochs')\n",
    "plt.ylabel('Loss')\n",
    "plt.legend()\n",
    "plt.show()"
   ]
  },
  {
   "cell_type": "markdown",
   "id": "7420c072-73ba-47b5-9703-08e137d0f81f",
   "metadata": {},
   "source": [
    "# Making Predictions on the training set"
   ]
  },
  {
   "cell_type": "code",
   "execution_count": 1354,
   "id": "f9e85876",
   "metadata": {},
   "outputs": [
    {
     "name": "stdout",
     "output_type": "stream",
     "text": [
      "\u001b[1m16/16\u001b[0m \u001b[32m━━━━━━━━━━━━━━━━━━━━\u001b[0m\u001b[37m\u001b[0m \u001b[1m0s\u001b[0m 16ms/step\n"
     ]
    }
   ],
   "source": [
    "train_predict = model.predict(train_generator)"
   ]
  },
  {
   "cell_type": "code",
   "execution_count": 1356,
   "id": "6b087c6d-2156-4cbb-8d77-5e357b73ad7e",
   "metadata": {},
   "outputs": [],
   "source": [
    "# Ensuring the Predictions match the actual values for better processing\n",
    "y_train_actual = train_data[time_step:len(train_predict)+time_step, 3]\n",
    "\n",
    "train_predict = train_predict[:, -1, 0] \n",
    "y_train_actual = y_train_actual[:len(train_predict)]"
   ]
  },
  {
   "cell_type": "code",
   "execution_count": 1361,
   "id": "1b1242d6",
   "metadata": {},
   "outputs": [],
   "source": [
    "# Calculating the MSE and R2 score for training set\n",
    "mse_train = mean_squared_error(y_train_actual, train_predict)\n",
    "r2_train = r2_score(y_train_actual, train_predict)"
   ]
  },
  {
   "cell_type": "code",
   "execution_count": 1362,
   "id": "3ac6328c-21dd-4ffc-943a-ed0a2e6b4422",
   "metadata": {},
   "outputs": [
    {
     "name": "stdout",
     "output_type": "stream",
     "text": [
      "Training MSE: 0.0011631482618107009\n",
      "Training R2 Score: 0.9829990084044032\n"
     ]
    }
   ],
   "source": [
    "print(f'Training MSE: {mse_train}')\n",
    "print(f'Training R2 Score: {r2_train}')"
   ]
  },
  {
   "cell_type": "markdown",
   "id": "48fdb74c-ef25-4845-b558-b525304c72b2",
   "metadata": {},
   "source": [
    "# Hyperparameters Experiments "
   ]
  },
  {
   "cell_type": "markdown",
   "id": "e2bc71f3",
   "metadata": {},
   "source": [
    "# Hyperparameter Tuning 1\n",
    "\n",
    "Time Step : 60 \n",
    "Batch Size : 128\n",
    "\n",
    "lstm_units = 100\n",
    "dropout_rate = 0.2\n",
    "epochs = 30\n",
    "learning_rate = 0.0001\n",
    "\n",
    "LSTM Layers - 3\n",
    "\n",
    "Training MSE: 0.0058\n",
    "Training R2 Score: 0.9067\n",
    "\n"
   ]
  },
  {
   "cell_type": "markdown",
   "id": "fa169288-5792-4095-a92c-3bc430db5ab2",
   "metadata": {},
   "source": [
    "# Hyperparameter Tuning 2\n",
    "\n",
    "Time Step : 60 \n",
    "Batch Size : 128\n",
    "\n",
    "lstm_units = 50\n",
    "dropout_rate = 0.2\n",
    "epochs = 30\n",
    "learning_rate = 0.0001\n",
    "\n",
    "LSTM Layers - 3\n",
    "\n",
    "Training MSE: 0.0072\n",
    "Training R2 Score: 0.8842"
   ]
  },
  {
   "cell_type": "markdown",
   "id": "0d9ea25d-74d1-4905-a07d-f7a06028ff8a",
   "metadata": {},
   "source": [
    "# Hyperparameter Tuning 3\n",
    "\n",
    "Time Step : 30 \n",
    "Batch Size : 128\n",
    "\n",
    "lstm_units = 100\n",
    "dropout_rate = 0.2\n",
    "epochs = 50\n",
    "learning_rate = 0.0001\n",
    "\n",
    "LSTM Layers - 3\n",
    "\n",
    "Training MSE: 0.0044\n",
    "Training R2 Score: 0.9321"
   ]
  },
  {
   "cell_type": "markdown",
   "id": "f65275d6-d7a2-4bb8-885f-032f3fd3aab8",
   "metadata": {},
   "source": [
    "# Hyperparameter Tuning 4\n",
    "\n",
    "Time Step : 30\n",
    "Batch Size : 128\n",
    "\n",
    "lstm_units = 100\n",
    "dropout_rate = 0.2\n",
    "epochs = 50\n",
    "learning_rate = 0.0001\n",
    "\n",
    "LSTM Layers - 4\n",
    "\n",
    "Training MSE: 0.0066\n",
    "Training R2 Score: 0.9001"
   ]
  },
  {
   "cell_type": "markdown",
   "id": "7760f046-4f12-4727-aa6a-2b988b274478",
   "metadata": {},
   "source": [
    "# Hyperparameter Tuning 5\n",
    "\n",
    "Time Step : 30\n",
    "Batch Size : 128\n",
    "\n",
    "lstm_units = 100\n",
    "dropout_rate = 0.2\n",
    "epochs = 50\n",
    "learning_rate = 0.0001\n",
    "\n",
    "LSTM Layers - 5\n",
    "\n",
    "Training MSE: 0.0093\n",
    "Training R2 Score: 0.8582"
   ]
  },
  {
   "cell_type": "markdown",
   "id": "f617f8d9-3bc6-4f9d-9356-f65c1580c2c2",
   "metadata": {},
   "source": [
    "# Hyperparameter Tuning 6\n",
    "\n",
    "Time Step : 10\n",
    "Batch Size : 128\n",
    "\n",
    "lstm_units = 100\n",
    "dropout_rate = 0.2\n",
    "epochs = 30\n",
    "learning_rate = 0.0001\n",
    "\n",
    "LSTM Layers - 6\n",
    "\n",
    "Training MSE: 0.00777\n",
    "Training R2 Score: 0.8864"
   ]
  },
  {
   "cell_type": "markdown",
   "id": "e97adc7d-78ac-41ef-a378-30a546818db8",
   "metadata": {},
   "source": [
    "# Hyperparameter Tuning 7\n",
    "\n",
    "Time Step : 10\n",
    "Batch Size : 128\n",
    "\n",
    "lstm_units = 100\n",
    "dropout_rate = 0.2\n",
    "epochs = 50\n",
    "learning_rate = 0.0001\n",
    "\n",
    "LSTM Layers - 7 with one LSTM layer of 50 units\n",
    "\n",
    "Training MSE: 0.0209\n",
    "Training R2 Score: 0.6944"
   ]
  },
  {
   "cell_type": "markdown",
   "id": "f255cb3f-5dbb-48a5-a04a-2bcd26014050",
   "metadata": {},
   "source": [
    "# Hyperparameter Tuning 8\n",
    "\n",
    "Time Step : 10\n",
    "Batch Size : 128\n",
    "\n",
    "lstm_units = 100\n",
    "dropout_rate = 0.2\n",
    "epochs = 30\n",
    "learning_rate = 0.0001\n",
    "\n",
    "LSTM Layers - 3\n",
    "\n",
    "Training MSE: 0.0133\n",
    "Training R2 Score: 0.8047"
   ]
  },
  {
   "cell_type": "markdown",
   "id": "f9dfd548-4165-4ad1-926c-ade18ed9e69e",
   "metadata": {},
   "source": [
    "# Hyperparameter Tuning 9\n",
    "\n",
    "Time Step : 10\n",
    "Batch Size : 64\n",
    "\n",
    "lstm_units = 100\n",
    "dropout_rate = 0.2\n",
    "epochs = 30\n",
    "learning_rate = 0.0001\n",
    "\n",
    "LSTM Layers - 3\n",
    "\n",
    "Training MSE: 0.00650\n",
    "Training R2 Score: 0.9049"
   ]
  },
  {
   "cell_type": "markdown",
   "id": "fee184a9-df96-46e7-a911-4b86c6d28d8c",
   "metadata": {},
   "source": [
    "# Hyperparameter Tuning 10\n",
    "\n",
    "Time Step : 10\n",
    "Batch Size : 128\n",
    "\n",
    "lstm_units = 100\n",
    "dropout_rate = 0.1\n",
    "epochs = 30\n",
    "learning_rate = 0.0001\n",
    "\n",
    "LSTM Layers - 3\n",
    "\n",
    "Training MSE: 0.00555\n",
    "Training R2 Score: 0.9187\n"
   ]
  },
  {
   "cell_type": "markdown",
   "id": "ee6a9bea-3f8a-4b0b-bd4e-6c2c32767eb0",
   "metadata": {},
   "source": [
    "# Hyperparameter Tuning 11\n",
    "\n",
    "Time Step : 10\n",
    "Batch Size : 128\n",
    "\n",
    "lstm_units = 100\n",
    "dropout_rate = 0.1\n",
    "epochs = 30\n",
    "learning_rate = 0.001\n",
    "\n",
    "LSTM Layers - 3\n",
    "\n",
    "Training MSE: 0.0024\n",
    "Training R2 Score: 0.9637"
   ]
  },
  {
   "cell_type": "markdown",
   "id": "8b2ab28b-2498-4e85-bc00-055ac6d7d8f0",
   "metadata": {},
   "source": [
    "# Hyperparameter Tuning 12\n",
    "\n",
    "Time Step : 10\n",
    "Batch Size : 128\n",
    "\n",
    "lstm_units = 100\n",
    "dropout_rate = 0.1\n",
    "epochs = 30\n",
    "learning_rate = 0.001\n",
    "\n",
    "LSTM Layers - 4 with one layer of 50 Units\n",
    "\n",
    "Training MSE: 0.0011\n",
    "Training R2 Score: 0.9829\n"
   ]
  },
  {
   "cell_type": "markdown",
   "id": "72524b11-fa0b-4e6a-8a7d-415e344388af",
   "metadata": {},
   "source": [
    "# Best Hyperparameters for Prediction \n",
    "\n",
    "As Visible above, after running all the different combination of Hyperparameter values we can conclude that the best model parameters for the stock price prediction is : \n",
    "\n",
    "Time Step : 10\n",
    "Batch Size : 128\n",
    "\n",
    "lstm_units = 100\n",
    "dropout_rate = 0.1\n",
    "epochs = 30\n",
    "learning_rate = 0.001\n",
    "\n",
    "LSTM Layers - 4 with one layer of 50 Units\n",
    "\n",
    "This model returns the lowest Mean Squared Error and Maximum R2 Score. We will use this to make the predictions. "
   ]
  },
  {
   "cell_type": "markdown",
   "id": "280573a8",
   "metadata": {},
   "source": [
    "# Making Predictions\n",
    "\n",
    "Using the above Configuration, we will make prediction on the test set and evaluate the Actual / predicted prices. "
   ]
  },
  {
   "cell_type": "code",
   "execution_count": 1377,
   "id": "2a2ec3e9",
   "metadata": {},
   "outputs": [
    {
     "name": "stdout",
     "output_type": "stream",
     "text": [
      "\u001b[1m4/4\u001b[0m \u001b[32m━━━━━━━━━━━━━━━━━━━━\u001b[0m\u001b[37m\u001b[0m \u001b[1m0s\u001b[0m 6ms/step \n"
     ]
    }
   ],
   "source": [
    "# Making predictions for the stock price\n",
    "test_predict = model.predict(test_generator)"
   ]
  },
  {
   "cell_type": "code",
   "execution_count": 1378,
   "id": "a8a387da",
   "metadata": {},
   "outputs": [],
   "source": [
    "y_test_actual = test_data[time_step:len(test_predict)+time_step, 3]"
   ]
  },
  {
   "cell_type": "code",
   "execution_count": 1379,
   "id": "abe72df4",
   "metadata": {},
   "outputs": [],
   "source": [
    "test_predict = test_predict[:, -1, 0]  # Extract the last timestep and flatten\n",
    "y_test_actual = y_test_actual[:len(test_predict)]"
   ]
  },
  {
   "cell_type": "code",
   "execution_count": 1382,
   "id": "92a25e1b",
   "metadata": {},
   "outputs": [
    {
     "name": "stdout",
     "output_type": "stream",
     "text": [
      "MSE: 0.0006629424958934354\n",
      "R2 Score: 0.9195167468018889\n"
     ]
    }
   ],
   "source": [
    "# Calculating the MSE and R2 Score for test Set\n",
    "mse = mean_squared_error(y_test_actual, test_predict)\n",
    "r2 = r2_score(y_test_actual, test_predict)\n",
    "print(f'MSE: {mse}')\n",
    "print(f'R2 Score: {r2}')"
   ]
  },
  {
   "cell_type": "code",
   "execution_count": 1383,
   "id": "693c7c66",
   "metadata": {},
   "outputs": [
    {
     "data": {
      "image/png": "[encoded data removed]",
      "text/plain": [
       "<Figure size 1200x600 with 1 Axes>"
      ]
     },
     "metadata": {},
     "output_type": "display_data"
    }
   ],
   "source": [
    "# Plotting actual vs predicted prices to visualize\n",
    "plt.figure(figsize=(12, 6))\n",
    "plt.plot(y_test_actual, label='Actual Price')\n",
    "plt.plot(test_predict, label='Predicted Price')\n",
    "plt.title('Actual vs Predicted Prices')\n",
    "plt.xlabel('Time')\n",
    "plt.ylabel('Price')\n",
    "plt.legend()\n",
    "plt.show()"
   ]
  },
  {
   "cell_type": "markdown",
   "id": "a5119f32",
   "metadata": {},
   "source": [
    "# Results & Recommendations\n",
    "\n",
    "The Above Experiment results in a Mean Squared error of 0.0006 a Lower MSE value indicates a better accuracy and closer predictions to the actual prices of the tesla Stock. \n",
    "\n",
    "The R2 Score of 0.9195 indicates that approximately 91.95% of the variance in Tesla stock prices is explained by the model and that the model provides a good fit to the data, explaining a significant portion of the variability in the closing price of the stock.\n",
    "\n",
    "In conclusion, an MSE of 0.0006629424958934354 and an R2 Score of 0.9195167468018889 suggests that the LSTM model for Tesla stock price prediction is performing well, with relatively low prediction errors and a strong ability to explain variability in stock prices based on the chosen features and model architecture.\n",
    "\n",
    "The MSE and R2 score can be improved even further by Tuning Hyperparameters more and adding more layers to the LSTM Network. "
   ]
  }
 ],
 "metadata": {
  "kernelspec": {
   "display_name": "Python 3 (ipykernel)",
   "language": "python",
   "name": "python3"
  },
  "language_info": {
   "codemirror_mode": {
    "name": "ipython",
    "version": 3
   },
   "file_extension": ".py",
   "mimetype": "text/x-python",
   "name": "python",
   "nbconvert_exporter": "python",
   "pygments_lexer": "ipython3",
   "version": "3.11.7"
  }
 },
 "nbformat": 4,
 "nbformat_minor": 5
}
